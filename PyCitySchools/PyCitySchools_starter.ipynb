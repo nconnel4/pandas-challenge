{
 "cells": [
  {
   "cell_type": "markdown",
   "metadata": {},
   "source": [
    "### Note\n",
    "* Instructions have been included for each segment. You do not have to follow them exactly, but they are included to help you think through the steps."
   ]
  },
  {
   "cell_type": "code",
   "execution_count": 2,
   "metadata": {},
   "outputs": [],
   "source": [
    "# Dependencies and Setup\n",
    "import pandas as pd\n",
    "\n",
    "# File to Load (Remember to Change These)\n",
    "school_data_to_load = \"Resources/schools_complete.csv\"\n",
    "student_data_to_load = \"Resources/students_complete.csv\"\n",
    "\n",
    "# Read School and Student Data File and store into Pandas DataFrames\n",
    "school_data = pd.read_csv(school_data_to_load)\n",
    "student_data = pd.read_csv(student_data_to_load)\n",
    "\n",
    "# Combine the data into a single dataset.  \n",
    "school_data_complete = pd.merge(student_data, school_data, how=\"left\", on=[\"school_name\", \"school_name\"])"
   ]
  },
  {
   "cell_type": "markdown",
   "metadata": {},
   "source": [
    "## District Summary\n",
    "\n",
    "* Calculate the total number of schools\n",
    "\n",
    "* Calculate the total number of students\n",
    "\n",
    "* Calculate the total budget\n",
    "\n",
    "* Calculate the average math score \n",
    "\n",
    "* Calculate the average reading score\n",
    "\n",
    "* Calculate the percentage of students with a passing math score (70 or greater)\n",
    "\n",
    "* Calculate the percentage of students with a passing reading score (70 or greater)\n",
    "\n",
    "* Calculate the percentage of students who passed math **and** reading (% Overall Passing)\n",
    "\n",
    "* Create a dataframe to hold the above results\n",
    "\n",
    "* Optional: give the displayed data cleaner formatting"
   ]
  },
  {
   "cell_type": "code",
   "execution_count": 3,
   "metadata": {},
   "outputs": [
    {
     "data": {
      "text/plain": "   Total Schools Total Students    Total Budget Average Math Score  \\\n0             15         39,170  $24,649,428.00              78.99   \n\n  Average Reading Score % Passing Math % Passing Reading % Overall Passing  \n0                 81.88         74.98%            85.81%            65.17%  ",
      "text/html": "<div>\n<style scoped>\n    .dataframe tbody tr th:only-of-type {\n        vertical-align: middle;\n    }\n\n    .dataframe tbody tr th {\n        vertical-align: top;\n    }\n\n    .dataframe thead th {\n        text-align: right;\n    }\n</style>\n<table border=\"1\" class=\"dataframe\">\n  <thead>\n    <tr style=\"text-align: right;\">\n      <th></th>\n      <th>Total Schools</th>\n      <th>Total Students</th>\n      <th>Total Budget</th>\n      <th>Average Math Score</th>\n      <th>Average Reading Score</th>\n      <th>% Passing Math</th>\n      <th>% Passing Reading</th>\n      <th>% Overall Passing</th>\n    </tr>\n  </thead>\n  <tbody>\n    <tr>\n      <th>0</th>\n      <td>15</td>\n      <td>39,170</td>\n      <td>$24,649,428.00</td>\n      <td>78.99</td>\n      <td>81.88</td>\n      <td>74.98%</td>\n      <td>85.81%</td>\n      <td>65.17%</td>\n    </tr>\n  </tbody>\n</table>\n</div>"
     },
     "execution_count": 3,
     "metadata": {},
     "output_type": "execute_result"
    }
   ],
   "source": [
    "# set total number of schools and students\n",
    "total_schools = len(school_data)\n",
    "total_students = len(student_data)\n",
    "\n",
    "# get total budget\n",
    "total_budget = school_data['budget'].sum()\n",
    "\n",
    "# get avg scores\n",
    "avg_math_score = student_data['math_score'].mean()\n",
    "avg_read_score = student_data['reading_score'].mean()\n",
    "\n",
    "# get number of passing math students\n",
    "math_pass_df = student_data.loc[(student_data['math_score'] >= 70), : ]\n",
    "stu_passing_math = len(math_pass_df)\n",
    "\n",
    "# get number of passing reading students\n",
    "read_pass_df = student_data.loc[(student_data['reading_score'] >= 70), : ]\n",
    "stu_passing_read = len(read_pass_df)\n",
    "\n",
    "# get number of students passing both math and reading\n",
    "overall_pass_df = pd.merge(math_pass_df, read_pass_df, how='inner', on='Student ID', suffixes=('_math', '_read'))\n",
    "stu_passing_overall = len(overall_pass_df)\n",
    "\n",
    "# calculate pass percentage by type\n",
    "perc_pass_math = stu_passing_math / total_students * 100\n",
    "perc_pass_read = stu_passing_read / total_students * 100\n",
    "perc_pass_overall = stu_passing_overall / total_students * 100\n",
    "\n",
    "# create data_frame\n",
    "district_summary_df = pd.DataFrame([\n",
    "    {\n",
    "        'Total Schools': total_schools,\n",
    "        'Total Students': total_students,\n",
    "        'Total Budget': total_budget,\n",
    "        'Average Math Score': avg_math_score,\n",
    "        'Average Reading Score': avg_read_score,\n",
    "        '% Passing Math': perc_pass_math,\n",
    "        '% Passing Reading': perc_pass_read,\n",
    "        '% Overall Passing': perc_pass_overall\n",
    "    }\n",
    "])\n",
    "\n",
    "# format District Summary dataframe\n",
    "district_summary_df['Total Students'] = district_summary_df['Total Students'].map('{:,}'.format)\n",
    "district_summary_df['Total Budget'] = district_summary_df['Total Budget'].map('${:,.2f}'.format)\n",
    "district_summary_df['Average Math Score'] = district_summary_df['Average Math Score'].map('{:.2f}'.format)\n",
    "district_summary_df['Average Reading Score'] = district_summary_df['Average Reading Score'].map('{:.2f}'.format)\n",
    "district_summary_df['% Passing Math'] = district_summary_df['% Passing Math'].map('{:.2f}%'.format)\n",
    "district_summary_df['% Passing Reading'] = district_summary_df['% Passing Reading'].map('{:.2f}%'.format)\n",
    "district_summary_df['% Overall Passing'] = district_summary_df['% Overall Passing'].map('{:.2f}%'.format)\n",
    "\n",
    "# print dataframe\n",
    "district_summary_df"
   ]
  },
  {
   "cell_type": "markdown",
   "metadata": {},
   "source": [
    "## School Summary"
   ]
  },
  {
   "cell_type": "markdown",
   "metadata": {},
   "source": [
    "* Create an overview table that summarizes key metrics about each school, including:\n",
    "  * School Name\n",
    "  * School Type\n",
    "  * Total Students\n",
    "  * Total School Budget\n",
    "  * Per Student Budget\n",
    "  * Average Math Score\n",
    "  * Average Reading Score\n",
    "  * % Passing Math\n",
    "  * % Passing Reading\n",
    "  * % Overall Passing (The percentage of students that passed math **and** reading.)\n",
    "  \n",
    "* Create a dataframe to hold the above results"
   ]
  },
  {
   "cell_type": "code",
   "execution_count": 16,
   "outputs": [
    {
     "data": {
      "text/plain": "<pandas.io.formats.style.Styler at 0x21ee0acf748>",
      "text/html": "<style  type=\"text/css\" >\n</style><table id=\"T_43950dc8_9a45_11eb_952f_e45e37c43aaa\" ><thead>    <tr>        <th class=\"blank level0\" ></th>        <th class=\"col_heading level0 col0\" >School Type</th>        <th class=\"col_heading level0 col1\" >Total Students</th>        <th class=\"col_heading level0 col2\" >Total School Budget</th>        <th class=\"col_heading level0 col3\" >Per Student Budget</th>        <th class=\"col_heading level0 col4\" >Average Math Score</th>        <th class=\"col_heading level0 col5\" >Average Reading Score</th>        <th class=\"col_heading level0 col6\" >% Passing Math</th>        <th class=\"col_heading level0 col7\" >% Passing Reading</th>        <th class=\"col_heading level0 col8\" >% Overall Passing</th>    </tr>    <tr>        <th class=\"index_name level0\" >School Name</th>        <th class=\"blank\" ></th>        <th class=\"blank\" ></th>        <th class=\"blank\" ></th>        <th class=\"blank\" ></th>        <th class=\"blank\" ></th>        <th class=\"blank\" ></th>        <th class=\"blank\" ></th>        <th class=\"blank\" ></th>        <th class=\"blank\" ></th>    </tr></thead><tbody>\n                <tr>\n                        <th id=\"T_43950dc8_9a45_11eb_952f_e45e37c43aaalevel0_row0\" class=\"row_heading level0 row0\" >Bailey High School</th>\n                        <td id=\"T_43950dc8_9a45_11eb_952f_e45e37c43aaarow0_col0\" class=\"data row0 col0\" >District</td>\n                        <td id=\"T_43950dc8_9a45_11eb_952f_e45e37c43aaarow0_col1\" class=\"data row0 col1\" >4,976</td>\n                        <td id=\"T_43950dc8_9a45_11eb_952f_e45e37c43aaarow0_col2\" class=\"data row0 col2\" >$3,124,928.00</td>\n                        <td id=\"T_43950dc8_9a45_11eb_952f_e45e37c43aaarow0_col3\" class=\"data row0 col3\" >$628.00</td>\n                        <td id=\"T_43950dc8_9a45_11eb_952f_e45e37c43aaarow0_col4\" class=\"data row0 col4\" >77.05</td>\n                        <td id=\"T_43950dc8_9a45_11eb_952f_e45e37c43aaarow0_col5\" class=\"data row0 col5\" >81.03</td>\n                        <td id=\"T_43950dc8_9a45_11eb_952f_e45e37c43aaarow0_col6\" class=\"data row0 col6\" >66.68%</td>\n                        <td id=\"T_43950dc8_9a45_11eb_952f_e45e37c43aaarow0_col7\" class=\"data row0 col7\" >81.93%</td>\n                        <td id=\"T_43950dc8_9a45_11eb_952f_e45e37c43aaarow0_col8\" class=\"data row0 col8\" >54.64%</td>\n            </tr>\n            <tr>\n                        <th id=\"T_43950dc8_9a45_11eb_952f_e45e37c43aaalevel0_row1\" class=\"row_heading level0 row1\" >Cabrera High School</th>\n                        <td id=\"T_43950dc8_9a45_11eb_952f_e45e37c43aaarow1_col0\" class=\"data row1 col0\" >Charter</td>\n                        <td id=\"T_43950dc8_9a45_11eb_952f_e45e37c43aaarow1_col1\" class=\"data row1 col1\" >1,858</td>\n                        <td id=\"T_43950dc8_9a45_11eb_952f_e45e37c43aaarow1_col2\" class=\"data row1 col2\" >$1,081,356.00</td>\n                        <td id=\"T_43950dc8_9a45_11eb_952f_e45e37c43aaarow1_col3\" class=\"data row1 col3\" >$582.00</td>\n                        <td id=\"T_43950dc8_9a45_11eb_952f_e45e37c43aaarow1_col4\" class=\"data row1 col4\" >83.06</td>\n                        <td id=\"T_43950dc8_9a45_11eb_952f_e45e37c43aaarow1_col5\" class=\"data row1 col5\" >83.98</td>\n                        <td id=\"T_43950dc8_9a45_11eb_952f_e45e37c43aaarow1_col6\" class=\"data row1 col6\" >94.13%</td>\n                        <td id=\"T_43950dc8_9a45_11eb_952f_e45e37c43aaarow1_col7\" class=\"data row1 col7\" >97.04%</td>\n                        <td id=\"T_43950dc8_9a45_11eb_952f_e45e37c43aaarow1_col8\" class=\"data row1 col8\" >91.33%</td>\n            </tr>\n            <tr>\n                        <th id=\"T_43950dc8_9a45_11eb_952f_e45e37c43aaalevel0_row2\" class=\"row_heading level0 row2\" >Figueroa High School</th>\n                        <td id=\"T_43950dc8_9a45_11eb_952f_e45e37c43aaarow2_col0\" class=\"data row2 col0\" >District</td>\n                        <td id=\"T_43950dc8_9a45_11eb_952f_e45e37c43aaarow2_col1\" class=\"data row2 col1\" >2,949</td>\n                        <td id=\"T_43950dc8_9a45_11eb_952f_e45e37c43aaarow2_col2\" class=\"data row2 col2\" >$1,884,411.00</td>\n                        <td id=\"T_43950dc8_9a45_11eb_952f_e45e37c43aaarow2_col3\" class=\"data row2 col3\" >$639.00</td>\n                        <td id=\"T_43950dc8_9a45_11eb_952f_e45e37c43aaarow2_col4\" class=\"data row2 col4\" >76.71</td>\n                        <td id=\"T_43950dc8_9a45_11eb_952f_e45e37c43aaarow2_col5\" class=\"data row2 col5\" >81.16</td>\n                        <td id=\"T_43950dc8_9a45_11eb_952f_e45e37c43aaarow2_col6\" class=\"data row2 col6\" >65.99%</td>\n                        <td id=\"T_43950dc8_9a45_11eb_952f_e45e37c43aaarow2_col7\" class=\"data row2 col7\" >80.74%</td>\n                        <td id=\"T_43950dc8_9a45_11eb_952f_e45e37c43aaarow2_col8\" class=\"data row2 col8\" >53.20%</td>\n            </tr>\n            <tr>\n                        <th id=\"T_43950dc8_9a45_11eb_952f_e45e37c43aaalevel0_row3\" class=\"row_heading level0 row3\" >Ford High School</th>\n                        <td id=\"T_43950dc8_9a45_11eb_952f_e45e37c43aaarow3_col0\" class=\"data row3 col0\" >District</td>\n                        <td id=\"T_43950dc8_9a45_11eb_952f_e45e37c43aaarow3_col1\" class=\"data row3 col1\" >2,739</td>\n                        <td id=\"T_43950dc8_9a45_11eb_952f_e45e37c43aaarow3_col2\" class=\"data row3 col2\" >$1,763,916.00</td>\n                        <td id=\"T_43950dc8_9a45_11eb_952f_e45e37c43aaarow3_col3\" class=\"data row3 col3\" >$644.00</td>\n                        <td id=\"T_43950dc8_9a45_11eb_952f_e45e37c43aaarow3_col4\" class=\"data row3 col4\" >77.10</td>\n                        <td id=\"T_43950dc8_9a45_11eb_952f_e45e37c43aaarow3_col5\" class=\"data row3 col5\" >80.75</td>\n                        <td id=\"T_43950dc8_9a45_11eb_952f_e45e37c43aaarow3_col6\" class=\"data row3 col6\" >68.31%</td>\n                        <td id=\"T_43950dc8_9a45_11eb_952f_e45e37c43aaarow3_col7\" class=\"data row3 col7\" >79.30%</td>\n                        <td id=\"T_43950dc8_9a45_11eb_952f_e45e37c43aaarow3_col8\" class=\"data row3 col8\" >54.29%</td>\n            </tr>\n            <tr>\n                        <th id=\"T_43950dc8_9a45_11eb_952f_e45e37c43aaalevel0_row4\" class=\"row_heading level0 row4\" >Griffin High School</th>\n                        <td id=\"T_43950dc8_9a45_11eb_952f_e45e37c43aaarow4_col0\" class=\"data row4 col0\" >Charter</td>\n                        <td id=\"T_43950dc8_9a45_11eb_952f_e45e37c43aaarow4_col1\" class=\"data row4 col1\" >1,468</td>\n                        <td id=\"T_43950dc8_9a45_11eb_952f_e45e37c43aaarow4_col2\" class=\"data row4 col2\" >$917,500.00</td>\n                        <td id=\"T_43950dc8_9a45_11eb_952f_e45e37c43aaarow4_col3\" class=\"data row4 col3\" >$625.00</td>\n                        <td id=\"T_43950dc8_9a45_11eb_952f_e45e37c43aaarow4_col4\" class=\"data row4 col4\" >83.35</td>\n                        <td id=\"T_43950dc8_9a45_11eb_952f_e45e37c43aaarow4_col5\" class=\"data row4 col5\" >83.82</td>\n                        <td id=\"T_43950dc8_9a45_11eb_952f_e45e37c43aaarow4_col6\" class=\"data row4 col6\" >93.39%</td>\n                        <td id=\"T_43950dc8_9a45_11eb_952f_e45e37c43aaarow4_col7\" class=\"data row4 col7\" >97.14%</td>\n                        <td id=\"T_43950dc8_9a45_11eb_952f_e45e37c43aaarow4_col8\" class=\"data row4 col8\" >90.60%</td>\n            </tr>\n            <tr>\n                        <th id=\"T_43950dc8_9a45_11eb_952f_e45e37c43aaalevel0_row5\" class=\"row_heading level0 row5\" >Hernandez High School</th>\n                        <td id=\"T_43950dc8_9a45_11eb_952f_e45e37c43aaarow5_col0\" class=\"data row5 col0\" >District</td>\n                        <td id=\"T_43950dc8_9a45_11eb_952f_e45e37c43aaarow5_col1\" class=\"data row5 col1\" >4,635</td>\n                        <td id=\"T_43950dc8_9a45_11eb_952f_e45e37c43aaarow5_col2\" class=\"data row5 col2\" >$3,022,020.00</td>\n                        <td id=\"T_43950dc8_9a45_11eb_952f_e45e37c43aaarow5_col3\" class=\"data row5 col3\" >$652.00</td>\n                        <td id=\"T_43950dc8_9a45_11eb_952f_e45e37c43aaarow5_col4\" class=\"data row5 col4\" >77.29</td>\n                        <td id=\"T_43950dc8_9a45_11eb_952f_e45e37c43aaarow5_col5\" class=\"data row5 col5\" >80.93</td>\n                        <td id=\"T_43950dc8_9a45_11eb_952f_e45e37c43aaarow5_col6\" class=\"data row5 col6\" >66.75%</td>\n                        <td id=\"T_43950dc8_9a45_11eb_952f_e45e37c43aaarow5_col7\" class=\"data row5 col7\" >80.86%</td>\n                        <td id=\"T_43950dc8_9a45_11eb_952f_e45e37c43aaarow5_col8\" class=\"data row5 col8\" >53.53%</td>\n            </tr>\n            <tr>\n                        <th id=\"T_43950dc8_9a45_11eb_952f_e45e37c43aaalevel0_row6\" class=\"row_heading level0 row6\" >Holden High School</th>\n                        <td id=\"T_43950dc8_9a45_11eb_952f_e45e37c43aaarow6_col0\" class=\"data row6 col0\" >Charter</td>\n                        <td id=\"T_43950dc8_9a45_11eb_952f_e45e37c43aaarow6_col1\" class=\"data row6 col1\" >427</td>\n                        <td id=\"T_43950dc8_9a45_11eb_952f_e45e37c43aaarow6_col2\" class=\"data row6 col2\" >$248,087.00</td>\n                        <td id=\"T_43950dc8_9a45_11eb_952f_e45e37c43aaarow6_col3\" class=\"data row6 col3\" >$581.00</td>\n                        <td id=\"T_43950dc8_9a45_11eb_952f_e45e37c43aaarow6_col4\" class=\"data row6 col4\" >83.80</td>\n                        <td id=\"T_43950dc8_9a45_11eb_952f_e45e37c43aaarow6_col5\" class=\"data row6 col5\" >83.81</td>\n                        <td id=\"T_43950dc8_9a45_11eb_952f_e45e37c43aaarow6_col6\" class=\"data row6 col6\" >92.51%</td>\n                        <td id=\"T_43950dc8_9a45_11eb_952f_e45e37c43aaarow6_col7\" class=\"data row6 col7\" >96.25%</td>\n                        <td id=\"T_43950dc8_9a45_11eb_952f_e45e37c43aaarow6_col8\" class=\"data row6 col8\" >89.23%</td>\n            </tr>\n            <tr>\n                        <th id=\"T_43950dc8_9a45_11eb_952f_e45e37c43aaalevel0_row7\" class=\"row_heading level0 row7\" >Huang High School</th>\n                        <td id=\"T_43950dc8_9a45_11eb_952f_e45e37c43aaarow7_col0\" class=\"data row7 col0\" >District</td>\n                        <td id=\"T_43950dc8_9a45_11eb_952f_e45e37c43aaarow7_col1\" class=\"data row7 col1\" >2,917</td>\n                        <td id=\"T_43950dc8_9a45_11eb_952f_e45e37c43aaarow7_col2\" class=\"data row7 col2\" >$1,910,635.00</td>\n                        <td id=\"T_43950dc8_9a45_11eb_952f_e45e37c43aaarow7_col3\" class=\"data row7 col3\" >$655.00</td>\n                        <td id=\"T_43950dc8_9a45_11eb_952f_e45e37c43aaarow7_col4\" class=\"data row7 col4\" >76.63</td>\n                        <td id=\"T_43950dc8_9a45_11eb_952f_e45e37c43aaarow7_col5\" class=\"data row7 col5\" >81.18</td>\n                        <td id=\"T_43950dc8_9a45_11eb_952f_e45e37c43aaarow7_col6\" class=\"data row7 col6\" >65.68%</td>\n                        <td id=\"T_43950dc8_9a45_11eb_952f_e45e37c43aaarow7_col7\" class=\"data row7 col7\" >81.32%</td>\n                        <td id=\"T_43950dc8_9a45_11eb_952f_e45e37c43aaarow7_col8\" class=\"data row7 col8\" >53.51%</td>\n            </tr>\n            <tr>\n                        <th id=\"T_43950dc8_9a45_11eb_952f_e45e37c43aaalevel0_row8\" class=\"row_heading level0 row8\" >Johnson High School</th>\n                        <td id=\"T_43950dc8_9a45_11eb_952f_e45e37c43aaarow8_col0\" class=\"data row8 col0\" >District</td>\n                        <td id=\"T_43950dc8_9a45_11eb_952f_e45e37c43aaarow8_col1\" class=\"data row8 col1\" >4,761</td>\n                        <td id=\"T_43950dc8_9a45_11eb_952f_e45e37c43aaarow8_col2\" class=\"data row8 col2\" >$3,094,650.00</td>\n                        <td id=\"T_43950dc8_9a45_11eb_952f_e45e37c43aaarow8_col3\" class=\"data row8 col3\" >$650.00</td>\n                        <td id=\"T_43950dc8_9a45_11eb_952f_e45e37c43aaarow8_col4\" class=\"data row8 col4\" >77.07</td>\n                        <td id=\"T_43950dc8_9a45_11eb_952f_e45e37c43aaarow8_col5\" class=\"data row8 col5\" >80.97</td>\n                        <td id=\"T_43950dc8_9a45_11eb_952f_e45e37c43aaarow8_col6\" class=\"data row8 col6\" >66.06%</td>\n                        <td id=\"T_43950dc8_9a45_11eb_952f_e45e37c43aaarow8_col7\" class=\"data row8 col7\" >81.22%</td>\n                        <td id=\"T_43950dc8_9a45_11eb_952f_e45e37c43aaarow8_col8\" class=\"data row8 col8\" >53.54%</td>\n            </tr>\n            <tr>\n                        <th id=\"T_43950dc8_9a45_11eb_952f_e45e37c43aaalevel0_row9\" class=\"row_heading level0 row9\" >Pena High School</th>\n                        <td id=\"T_43950dc8_9a45_11eb_952f_e45e37c43aaarow9_col0\" class=\"data row9 col0\" >Charter</td>\n                        <td id=\"T_43950dc8_9a45_11eb_952f_e45e37c43aaarow9_col1\" class=\"data row9 col1\" >962</td>\n                        <td id=\"T_43950dc8_9a45_11eb_952f_e45e37c43aaarow9_col2\" class=\"data row9 col2\" >$585,858.00</td>\n                        <td id=\"T_43950dc8_9a45_11eb_952f_e45e37c43aaarow9_col3\" class=\"data row9 col3\" >$609.00</td>\n                        <td id=\"T_43950dc8_9a45_11eb_952f_e45e37c43aaarow9_col4\" class=\"data row9 col4\" >83.84</td>\n                        <td id=\"T_43950dc8_9a45_11eb_952f_e45e37c43aaarow9_col5\" class=\"data row9 col5\" >84.04</td>\n                        <td id=\"T_43950dc8_9a45_11eb_952f_e45e37c43aaarow9_col6\" class=\"data row9 col6\" >94.59%</td>\n                        <td id=\"T_43950dc8_9a45_11eb_952f_e45e37c43aaarow9_col7\" class=\"data row9 col7\" >95.95%</td>\n                        <td id=\"T_43950dc8_9a45_11eb_952f_e45e37c43aaarow9_col8\" class=\"data row9 col8\" >90.54%</td>\n            </tr>\n            <tr>\n                        <th id=\"T_43950dc8_9a45_11eb_952f_e45e37c43aaalevel0_row10\" class=\"row_heading level0 row10\" >Rodriguez High School</th>\n                        <td id=\"T_43950dc8_9a45_11eb_952f_e45e37c43aaarow10_col0\" class=\"data row10 col0\" >District</td>\n                        <td id=\"T_43950dc8_9a45_11eb_952f_e45e37c43aaarow10_col1\" class=\"data row10 col1\" >3,999</td>\n                        <td id=\"T_43950dc8_9a45_11eb_952f_e45e37c43aaarow10_col2\" class=\"data row10 col2\" >$2,547,363.00</td>\n                        <td id=\"T_43950dc8_9a45_11eb_952f_e45e37c43aaarow10_col3\" class=\"data row10 col3\" >$637.00</td>\n                        <td id=\"T_43950dc8_9a45_11eb_952f_e45e37c43aaarow10_col4\" class=\"data row10 col4\" >76.84</td>\n                        <td id=\"T_43950dc8_9a45_11eb_952f_e45e37c43aaarow10_col5\" class=\"data row10 col5\" >80.74</td>\n                        <td id=\"T_43950dc8_9a45_11eb_952f_e45e37c43aaarow10_col6\" class=\"data row10 col6\" >66.37%</td>\n                        <td id=\"T_43950dc8_9a45_11eb_952f_e45e37c43aaarow10_col7\" class=\"data row10 col7\" >80.22%</td>\n                        <td id=\"T_43950dc8_9a45_11eb_952f_e45e37c43aaarow10_col8\" class=\"data row10 col8\" >52.99%</td>\n            </tr>\n            <tr>\n                        <th id=\"T_43950dc8_9a45_11eb_952f_e45e37c43aaalevel0_row11\" class=\"row_heading level0 row11\" >Shelton High School</th>\n                        <td id=\"T_43950dc8_9a45_11eb_952f_e45e37c43aaarow11_col0\" class=\"data row11 col0\" >Charter</td>\n                        <td id=\"T_43950dc8_9a45_11eb_952f_e45e37c43aaarow11_col1\" class=\"data row11 col1\" >1,761</td>\n                        <td id=\"T_43950dc8_9a45_11eb_952f_e45e37c43aaarow11_col2\" class=\"data row11 col2\" >$1,056,600.00</td>\n                        <td id=\"T_43950dc8_9a45_11eb_952f_e45e37c43aaarow11_col3\" class=\"data row11 col3\" >$600.00</td>\n                        <td id=\"T_43950dc8_9a45_11eb_952f_e45e37c43aaarow11_col4\" class=\"data row11 col4\" >83.36</td>\n                        <td id=\"T_43950dc8_9a45_11eb_952f_e45e37c43aaarow11_col5\" class=\"data row11 col5\" >83.73</td>\n                        <td id=\"T_43950dc8_9a45_11eb_952f_e45e37c43aaarow11_col6\" class=\"data row11 col6\" >93.87%</td>\n                        <td id=\"T_43950dc8_9a45_11eb_952f_e45e37c43aaarow11_col7\" class=\"data row11 col7\" >95.85%</td>\n                        <td id=\"T_43950dc8_9a45_11eb_952f_e45e37c43aaarow11_col8\" class=\"data row11 col8\" >89.89%</td>\n            </tr>\n            <tr>\n                        <th id=\"T_43950dc8_9a45_11eb_952f_e45e37c43aaalevel0_row12\" class=\"row_heading level0 row12\" >Thomas High School</th>\n                        <td id=\"T_43950dc8_9a45_11eb_952f_e45e37c43aaarow12_col0\" class=\"data row12 col0\" >Charter</td>\n                        <td id=\"T_43950dc8_9a45_11eb_952f_e45e37c43aaarow12_col1\" class=\"data row12 col1\" >1,635</td>\n                        <td id=\"T_43950dc8_9a45_11eb_952f_e45e37c43aaarow12_col2\" class=\"data row12 col2\" >$1,043,130.00</td>\n                        <td id=\"T_43950dc8_9a45_11eb_952f_e45e37c43aaarow12_col3\" class=\"data row12 col3\" >$638.00</td>\n                        <td id=\"T_43950dc8_9a45_11eb_952f_e45e37c43aaarow12_col4\" class=\"data row12 col4\" >83.42</td>\n                        <td id=\"T_43950dc8_9a45_11eb_952f_e45e37c43aaarow12_col5\" class=\"data row12 col5\" >83.85</td>\n                        <td id=\"T_43950dc8_9a45_11eb_952f_e45e37c43aaarow12_col6\" class=\"data row12 col6\" >93.27%</td>\n                        <td id=\"T_43950dc8_9a45_11eb_952f_e45e37c43aaarow12_col7\" class=\"data row12 col7\" >97.31%</td>\n                        <td id=\"T_43950dc8_9a45_11eb_952f_e45e37c43aaarow12_col8\" class=\"data row12 col8\" >90.95%</td>\n            </tr>\n            <tr>\n                        <th id=\"T_43950dc8_9a45_11eb_952f_e45e37c43aaalevel0_row13\" class=\"row_heading level0 row13\" >Wilson High School</th>\n                        <td id=\"T_43950dc8_9a45_11eb_952f_e45e37c43aaarow13_col0\" class=\"data row13 col0\" >Charter</td>\n                        <td id=\"T_43950dc8_9a45_11eb_952f_e45e37c43aaarow13_col1\" class=\"data row13 col1\" >2,283</td>\n                        <td id=\"T_43950dc8_9a45_11eb_952f_e45e37c43aaarow13_col2\" class=\"data row13 col2\" >$1,319,574.00</td>\n                        <td id=\"T_43950dc8_9a45_11eb_952f_e45e37c43aaarow13_col3\" class=\"data row13 col3\" >$578.00</td>\n                        <td id=\"T_43950dc8_9a45_11eb_952f_e45e37c43aaarow13_col4\" class=\"data row13 col4\" >83.27</td>\n                        <td id=\"T_43950dc8_9a45_11eb_952f_e45e37c43aaarow13_col5\" class=\"data row13 col5\" >83.99</td>\n                        <td id=\"T_43950dc8_9a45_11eb_952f_e45e37c43aaarow13_col6\" class=\"data row13 col6\" >93.87%</td>\n                        <td id=\"T_43950dc8_9a45_11eb_952f_e45e37c43aaarow13_col7\" class=\"data row13 col7\" >96.54%</td>\n                        <td id=\"T_43950dc8_9a45_11eb_952f_e45e37c43aaarow13_col8\" class=\"data row13 col8\" >90.58%</td>\n            </tr>\n            <tr>\n                        <th id=\"T_43950dc8_9a45_11eb_952f_e45e37c43aaalevel0_row14\" class=\"row_heading level0 row14\" >Wright High School</th>\n                        <td id=\"T_43950dc8_9a45_11eb_952f_e45e37c43aaarow14_col0\" class=\"data row14 col0\" >Charter</td>\n                        <td id=\"T_43950dc8_9a45_11eb_952f_e45e37c43aaarow14_col1\" class=\"data row14 col1\" >1,800</td>\n                        <td id=\"T_43950dc8_9a45_11eb_952f_e45e37c43aaarow14_col2\" class=\"data row14 col2\" >$1,049,400.00</td>\n                        <td id=\"T_43950dc8_9a45_11eb_952f_e45e37c43aaarow14_col3\" class=\"data row14 col3\" >$583.00</td>\n                        <td id=\"T_43950dc8_9a45_11eb_952f_e45e37c43aaarow14_col4\" class=\"data row14 col4\" >83.68</td>\n                        <td id=\"T_43950dc8_9a45_11eb_952f_e45e37c43aaarow14_col5\" class=\"data row14 col5\" >83.95</td>\n                        <td id=\"T_43950dc8_9a45_11eb_952f_e45e37c43aaarow14_col6\" class=\"data row14 col6\" >93.33%</td>\n                        <td id=\"T_43950dc8_9a45_11eb_952f_e45e37c43aaarow14_col7\" class=\"data row14 col7\" >96.61%</td>\n                        <td id=\"T_43950dc8_9a45_11eb_952f_e45e37c43aaarow14_col8\" class=\"data row14 col8\" >90.33%</td>\n            </tr>\n    </tbody></table>"
     },
     "execution_count": 16,
     "metadata": {},
     "output_type": "execute_result"
    }
   ],
   "source": [
    "# set base columns for School Summary DataFrame\n",
    "school_summary_df = school_data[['school_name', 'type', 'size', 'budget']]\n",
    "school_summary_df['avg_budget'] = school_summary_df['budget'] / school_summary_df['size']\n",
    "\n",
    "# get avg student grades and merge back into School Summary\n",
    "student_grades_df = student_data[['school_name', 'math_score', 'reading_score']]\n",
    "avg_grades_df = student_grades_df.groupby('school_name').mean()\n",
    "school_summary_df = school_summary_df.merge(avg_grades_df, how = 'inner', on = 'school_name')\n",
    "\n",
    "# get passing math student information and merge back into school summary\n",
    "math_pass_count_df = math_pass_df.groupby('school_name')['Student ID'].nunique()\n",
    "math_pass_count_df = math_pass_count_df.rename('math_pass_count')\n",
    "\n",
    "school_summary_df = school_summary_df.merge(math_pass_count_df, how = 'inner', on = 'school_name')\n",
    "\n",
    "# get passing reading students information and merge back into school summary\n",
    "read_pass_count_df = read_pass_df.groupby('school_name')['Student ID'].nunique()\n",
    "read_pass_count_df = read_pass_count_df.rename('read_pass_count')\n",
    "\n",
    "school_summary_df = school_summary_df.merge(read_pass_count_df, how = 'inner', on = 'school_name')\n",
    "\n",
    "# get students passing both subjects and merge back into school summary\n",
    "overall_pass_count_df = overall_pass_df.groupby('school_name_math')['Student ID'].nunique()\n",
    "overall_pass_count_df = overall_pass_count_df.rename('overall_pass_count')\n",
    "overall_pass_count_df = overall_pass_count_df.rename_axis('school_name')\n",
    "\n",
    "school_summary_df = school_summary_df.merge(overall_pass_count_df, how = 'inner', on = 'school_name')\n",
    "\n",
    "# calculate percentage of passing students\n",
    "school_summary_df['perc_pass_math'] = school_summary_df['math_pass_count'] / school_summary_df['size'] * 100\n",
    "school_summary_df['perc_pass_read'] = school_summary_df['read_pass_count'] / school_summary_df['size'] * 100\n",
    "school_summary_df['perc_pass_overall'] = school_summary_df['overall_pass_count'] / school_summary_df['size'] * 100\n",
    "\n",
    "# remove unnecessary columns\n",
    "school_summary_df.drop(['math_pass_count', 'read_pass_count', 'overall_pass_count'], axis=1, inplace=True)\n",
    "\n",
    "#rename column headers\n",
    "school_summary_df.rename(columns={\n",
    "    'school_name': 'School Name',\n",
    "    'type': 'School Type',\n",
    "    'size': 'Total Students',\n",
    "    'budget': 'Total School Budget',\n",
    "    'avg_budget': 'Per Student Budget',\n",
    "    'math_score': 'Average Math Score',\n",
    "    'reading_score': 'Average Reading Score',\n",
    "    'perc_pass_math': '% Passing Math',\n",
    "    'perc_pass_read': '% Passing Reading',\n",
    "    'perc_pass_overall': '% Overall Passing'\n",
    "}, inplace=True)\n",
    "\n",
    "# set output format\n",
    "output_format = {\n",
    "    'Total Students': '{:,.0f}',\n",
    "    'Total School Budget': '${:,.2f}',\n",
    "    'Per Student Budget': '${:,.2f}',\n",
    "    'Average Math Score': '{:.2f}',\n",
    "    'Average Reading Score': '{:.2f}',\n",
    "    '% Passing Math': '{:.2f}%',\n",
    "    '% Passing Reading': '{:.2f}%',\n",
    "    '% Overall Passing': '{:.2f}%'\n",
    "}\n",
    "school_summary_df.set_index('School Name', inplace=True)\n",
    "\n",
    "school_summary_df.sort_index().style.format(output_format)\n"
   ],
   "metadata": {
    "collapsed": false,
    "pycharm": {
     "name": "#%%\n"
    }
   }
  },
  {
   "cell_type": "markdown",
   "metadata": {},
   "source": [
    "## Top Performing Schools (By % Overall Passing)"
   ]
  },
  {
   "cell_type": "markdown",
   "metadata": {},
   "source": [
    "* Sort and display the top five performing schools by % overall passing."
   ]
  },
  {
   "cell_type": "code",
   "execution_count": 21,
   "outputs": [
    {
     "data": {
      "text/plain": "<pandas.io.formats.style.Styler at 0x21ee0a90b48>",
      "text/html": "<style  type=\"text/css\" >\n</style><table id=\"T_93bbd29e_9a45_11eb_a44a_e45e37c43aaa\" ><thead>    <tr>        <th class=\"blank level0\" ></th>        <th class=\"col_heading level0 col0\" >School Type</th>        <th class=\"col_heading level0 col1\" >Total Students</th>        <th class=\"col_heading level0 col2\" >Total School Budget</th>        <th class=\"col_heading level0 col3\" >Per Student Budget</th>        <th class=\"col_heading level0 col4\" >Average Math Score</th>        <th class=\"col_heading level0 col5\" >Average Reading Score</th>        <th class=\"col_heading level0 col6\" >% Passing Math</th>        <th class=\"col_heading level0 col7\" >% Passing Reading</th>        <th class=\"col_heading level0 col8\" >% Overall Passing</th>    </tr>    <tr>        <th class=\"index_name level0\" >School Name</th>        <th class=\"blank\" ></th>        <th class=\"blank\" ></th>        <th class=\"blank\" ></th>        <th class=\"blank\" ></th>        <th class=\"blank\" ></th>        <th class=\"blank\" ></th>        <th class=\"blank\" ></th>        <th class=\"blank\" ></th>        <th class=\"blank\" ></th>    </tr></thead><tbody>\n                <tr>\n                        <th id=\"T_93bbd29e_9a45_11eb_a44a_e45e37c43aaalevel0_row0\" class=\"row_heading level0 row0\" >Cabrera High School</th>\n                        <td id=\"T_93bbd29e_9a45_11eb_a44a_e45e37c43aaarow0_col0\" class=\"data row0 col0\" >Charter</td>\n                        <td id=\"T_93bbd29e_9a45_11eb_a44a_e45e37c43aaarow0_col1\" class=\"data row0 col1\" >1,858</td>\n                        <td id=\"T_93bbd29e_9a45_11eb_a44a_e45e37c43aaarow0_col2\" class=\"data row0 col2\" >$1,081,356.00</td>\n                        <td id=\"T_93bbd29e_9a45_11eb_a44a_e45e37c43aaarow0_col3\" class=\"data row0 col3\" >$582.00</td>\n                        <td id=\"T_93bbd29e_9a45_11eb_a44a_e45e37c43aaarow0_col4\" class=\"data row0 col4\" >83.06</td>\n                        <td id=\"T_93bbd29e_9a45_11eb_a44a_e45e37c43aaarow0_col5\" class=\"data row0 col5\" >83.98</td>\n                        <td id=\"T_93bbd29e_9a45_11eb_a44a_e45e37c43aaarow0_col6\" class=\"data row0 col6\" >94.13%</td>\n                        <td id=\"T_93bbd29e_9a45_11eb_a44a_e45e37c43aaarow0_col7\" class=\"data row0 col7\" >97.04%</td>\n                        <td id=\"T_93bbd29e_9a45_11eb_a44a_e45e37c43aaarow0_col8\" class=\"data row0 col8\" >91.33%</td>\n            </tr>\n            <tr>\n                        <th id=\"T_93bbd29e_9a45_11eb_a44a_e45e37c43aaalevel0_row1\" class=\"row_heading level0 row1\" >Thomas High School</th>\n                        <td id=\"T_93bbd29e_9a45_11eb_a44a_e45e37c43aaarow1_col0\" class=\"data row1 col0\" >Charter</td>\n                        <td id=\"T_93bbd29e_9a45_11eb_a44a_e45e37c43aaarow1_col1\" class=\"data row1 col1\" >1,635</td>\n                        <td id=\"T_93bbd29e_9a45_11eb_a44a_e45e37c43aaarow1_col2\" class=\"data row1 col2\" >$1,043,130.00</td>\n                        <td id=\"T_93bbd29e_9a45_11eb_a44a_e45e37c43aaarow1_col3\" class=\"data row1 col3\" >$638.00</td>\n                        <td id=\"T_93bbd29e_9a45_11eb_a44a_e45e37c43aaarow1_col4\" class=\"data row1 col4\" >83.42</td>\n                        <td id=\"T_93bbd29e_9a45_11eb_a44a_e45e37c43aaarow1_col5\" class=\"data row1 col5\" >83.85</td>\n                        <td id=\"T_93bbd29e_9a45_11eb_a44a_e45e37c43aaarow1_col6\" class=\"data row1 col6\" >93.27%</td>\n                        <td id=\"T_93bbd29e_9a45_11eb_a44a_e45e37c43aaarow1_col7\" class=\"data row1 col7\" >97.31%</td>\n                        <td id=\"T_93bbd29e_9a45_11eb_a44a_e45e37c43aaarow1_col8\" class=\"data row1 col8\" >90.95%</td>\n            </tr>\n            <tr>\n                        <th id=\"T_93bbd29e_9a45_11eb_a44a_e45e37c43aaalevel0_row2\" class=\"row_heading level0 row2\" >Griffin High School</th>\n                        <td id=\"T_93bbd29e_9a45_11eb_a44a_e45e37c43aaarow2_col0\" class=\"data row2 col0\" >Charter</td>\n                        <td id=\"T_93bbd29e_9a45_11eb_a44a_e45e37c43aaarow2_col1\" class=\"data row2 col1\" >1,468</td>\n                        <td id=\"T_93bbd29e_9a45_11eb_a44a_e45e37c43aaarow2_col2\" class=\"data row2 col2\" >$917,500.00</td>\n                        <td id=\"T_93bbd29e_9a45_11eb_a44a_e45e37c43aaarow2_col3\" class=\"data row2 col3\" >$625.00</td>\n                        <td id=\"T_93bbd29e_9a45_11eb_a44a_e45e37c43aaarow2_col4\" class=\"data row2 col4\" >83.35</td>\n                        <td id=\"T_93bbd29e_9a45_11eb_a44a_e45e37c43aaarow2_col5\" class=\"data row2 col5\" >83.82</td>\n                        <td id=\"T_93bbd29e_9a45_11eb_a44a_e45e37c43aaarow2_col6\" class=\"data row2 col6\" >93.39%</td>\n                        <td id=\"T_93bbd29e_9a45_11eb_a44a_e45e37c43aaarow2_col7\" class=\"data row2 col7\" >97.14%</td>\n                        <td id=\"T_93bbd29e_9a45_11eb_a44a_e45e37c43aaarow2_col8\" class=\"data row2 col8\" >90.60%</td>\n            </tr>\n            <tr>\n                        <th id=\"T_93bbd29e_9a45_11eb_a44a_e45e37c43aaalevel0_row3\" class=\"row_heading level0 row3\" >Wilson High School</th>\n                        <td id=\"T_93bbd29e_9a45_11eb_a44a_e45e37c43aaarow3_col0\" class=\"data row3 col0\" >Charter</td>\n                        <td id=\"T_93bbd29e_9a45_11eb_a44a_e45e37c43aaarow3_col1\" class=\"data row3 col1\" >2,283</td>\n                        <td id=\"T_93bbd29e_9a45_11eb_a44a_e45e37c43aaarow3_col2\" class=\"data row3 col2\" >$1,319,574.00</td>\n                        <td id=\"T_93bbd29e_9a45_11eb_a44a_e45e37c43aaarow3_col3\" class=\"data row3 col3\" >$578.00</td>\n                        <td id=\"T_93bbd29e_9a45_11eb_a44a_e45e37c43aaarow3_col4\" class=\"data row3 col4\" >83.27</td>\n                        <td id=\"T_93bbd29e_9a45_11eb_a44a_e45e37c43aaarow3_col5\" class=\"data row3 col5\" >83.99</td>\n                        <td id=\"T_93bbd29e_9a45_11eb_a44a_e45e37c43aaarow3_col6\" class=\"data row3 col6\" >93.87%</td>\n                        <td id=\"T_93bbd29e_9a45_11eb_a44a_e45e37c43aaarow3_col7\" class=\"data row3 col7\" >96.54%</td>\n                        <td id=\"T_93bbd29e_9a45_11eb_a44a_e45e37c43aaarow3_col8\" class=\"data row3 col8\" >90.58%</td>\n            </tr>\n            <tr>\n                        <th id=\"T_93bbd29e_9a45_11eb_a44a_e45e37c43aaalevel0_row4\" class=\"row_heading level0 row4\" >Pena High School</th>\n                        <td id=\"T_93bbd29e_9a45_11eb_a44a_e45e37c43aaarow4_col0\" class=\"data row4 col0\" >Charter</td>\n                        <td id=\"T_93bbd29e_9a45_11eb_a44a_e45e37c43aaarow4_col1\" class=\"data row4 col1\" >962</td>\n                        <td id=\"T_93bbd29e_9a45_11eb_a44a_e45e37c43aaarow4_col2\" class=\"data row4 col2\" >$585,858.00</td>\n                        <td id=\"T_93bbd29e_9a45_11eb_a44a_e45e37c43aaarow4_col3\" class=\"data row4 col3\" >$609.00</td>\n                        <td id=\"T_93bbd29e_9a45_11eb_a44a_e45e37c43aaarow4_col4\" class=\"data row4 col4\" >83.84</td>\n                        <td id=\"T_93bbd29e_9a45_11eb_a44a_e45e37c43aaarow4_col5\" class=\"data row4 col5\" >84.04</td>\n                        <td id=\"T_93bbd29e_9a45_11eb_a44a_e45e37c43aaarow4_col6\" class=\"data row4 col6\" >94.59%</td>\n                        <td id=\"T_93bbd29e_9a45_11eb_a44a_e45e37c43aaarow4_col7\" class=\"data row4 col7\" >95.95%</td>\n                        <td id=\"T_93bbd29e_9a45_11eb_a44a_e45e37c43aaarow4_col8\" class=\"data row4 col8\" >90.54%</td>\n            </tr>\n    </tbody></table>"
     },
     "execution_count": 21,
     "metadata": {},
     "output_type": "execute_result"
    }
   ],
   "source": [
    "top_schools_df = school_summary_df.sort_values('% Overall Passing', ascending=False).head(5)\n",
    "top_schools_df.style.format(output_format)"
   ],
   "metadata": {
    "collapsed": false,
    "pycharm": {
     "name": "#%%\n"
    }
   }
  },
  {
   "cell_type": "markdown",
   "metadata": {},
   "source": [
    "## Bottom Performing Schools (By % Overall Passing)"
   ]
  },
  {
   "cell_type": "markdown",
   "metadata": {},
   "source": [
    "* Sort and display the five worst-performing schools by % overall passing."
   ]
  },
  {
   "cell_type": "code",
   "execution_count": 20,
   "outputs": [
    {
     "data": {
      "text/plain": "<pandas.io.formats.style.Styler at 0x21ee0af83c8>",
      "text/html": "<style  type=\"text/css\" >\n</style><table id=\"T_8e7a9f5e_9a45_11eb_aab2_e45e37c43aaa\" ><thead>    <tr>        <th class=\"blank level0\" ></th>        <th class=\"col_heading level0 col0\" >School Type</th>        <th class=\"col_heading level0 col1\" >Total Students</th>        <th class=\"col_heading level0 col2\" >Total School Budget</th>        <th class=\"col_heading level0 col3\" >Per Student Budget</th>        <th class=\"col_heading level0 col4\" >Average Math Score</th>        <th class=\"col_heading level0 col5\" >Average Reading Score</th>        <th class=\"col_heading level0 col6\" >% Passing Math</th>        <th class=\"col_heading level0 col7\" >% Passing Reading</th>        <th class=\"col_heading level0 col8\" >% Overall Passing</th>    </tr>    <tr>        <th class=\"index_name level0\" >School Name</th>        <th class=\"blank\" ></th>        <th class=\"blank\" ></th>        <th class=\"blank\" ></th>        <th class=\"blank\" ></th>        <th class=\"blank\" ></th>        <th class=\"blank\" ></th>        <th class=\"blank\" ></th>        <th class=\"blank\" ></th>        <th class=\"blank\" ></th>    </tr></thead><tbody>\n                <tr>\n                        <th id=\"T_8e7a9f5e_9a45_11eb_aab2_e45e37c43aaalevel0_row0\" class=\"row_heading level0 row0\" >Rodriguez High School</th>\n                        <td id=\"T_8e7a9f5e_9a45_11eb_aab2_e45e37c43aaarow0_col0\" class=\"data row0 col0\" >District</td>\n                        <td id=\"T_8e7a9f5e_9a45_11eb_aab2_e45e37c43aaarow0_col1\" class=\"data row0 col1\" >3,999</td>\n                        <td id=\"T_8e7a9f5e_9a45_11eb_aab2_e45e37c43aaarow0_col2\" class=\"data row0 col2\" >$2,547,363.00</td>\n                        <td id=\"T_8e7a9f5e_9a45_11eb_aab2_e45e37c43aaarow0_col3\" class=\"data row0 col3\" >$637.00</td>\n                        <td id=\"T_8e7a9f5e_9a45_11eb_aab2_e45e37c43aaarow0_col4\" class=\"data row0 col4\" >76.84</td>\n                        <td id=\"T_8e7a9f5e_9a45_11eb_aab2_e45e37c43aaarow0_col5\" class=\"data row0 col5\" >80.74</td>\n                        <td id=\"T_8e7a9f5e_9a45_11eb_aab2_e45e37c43aaarow0_col6\" class=\"data row0 col6\" >66.37%</td>\n                        <td id=\"T_8e7a9f5e_9a45_11eb_aab2_e45e37c43aaarow0_col7\" class=\"data row0 col7\" >80.22%</td>\n                        <td id=\"T_8e7a9f5e_9a45_11eb_aab2_e45e37c43aaarow0_col8\" class=\"data row0 col8\" >52.99%</td>\n            </tr>\n            <tr>\n                        <th id=\"T_8e7a9f5e_9a45_11eb_aab2_e45e37c43aaalevel0_row1\" class=\"row_heading level0 row1\" >Figueroa High School</th>\n                        <td id=\"T_8e7a9f5e_9a45_11eb_aab2_e45e37c43aaarow1_col0\" class=\"data row1 col0\" >District</td>\n                        <td id=\"T_8e7a9f5e_9a45_11eb_aab2_e45e37c43aaarow1_col1\" class=\"data row1 col1\" >2,949</td>\n                        <td id=\"T_8e7a9f5e_9a45_11eb_aab2_e45e37c43aaarow1_col2\" class=\"data row1 col2\" >$1,884,411.00</td>\n                        <td id=\"T_8e7a9f5e_9a45_11eb_aab2_e45e37c43aaarow1_col3\" class=\"data row1 col3\" >$639.00</td>\n                        <td id=\"T_8e7a9f5e_9a45_11eb_aab2_e45e37c43aaarow1_col4\" class=\"data row1 col4\" >76.71</td>\n                        <td id=\"T_8e7a9f5e_9a45_11eb_aab2_e45e37c43aaarow1_col5\" class=\"data row1 col5\" >81.16</td>\n                        <td id=\"T_8e7a9f5e_9a45_11eb_aab2_e45e37c43aaarow1_col6\" class=\"data row1 col6\" >65.99%</td>\n                        <td id=\"T_8e7a9f5e_9a45_11eb_aab2_e45e37c43aaarow1_col7\" class=\"data row1 col7\" >80.74%</td>\n                        <td id=\"T_8e7a9f5e_9a45_11eb_aab2_e45e37c43aaarow1_col8\" class=\"data row1 col8\" >53.20%</td>\n            </tr>\n            <tr>\n                        <th id=\"T_8e7a9f5e_9a45_11eb_aab2_e45e37c43aaalevel0_row2\" class=\"row_heading level0 row2\" >Huang High School</th>\n                        <td id=\"T_8e7a9f5e_9a45_11eb_aab2_e45e37c43aaarow2_col0\" class=\"data row2 col0\" >District</td>\n                        <td id=\"T_8e7a9f5e_9a45_11eb_aab2_e45e37c43aaarow2_col1\" class=\"data row2 col1\" >2,917</td>\n                        <td id=\"T_8e7a9f5e_9a45_11eb_aab2_e45e37c43aaarow2_col2\" class=\"data row2 col2\" >$1,910,635.00</td>\n                        <td id=\"T_8e7a9f5e_9a45_11eb_aab2_e45e37c43aaarow2_col3\" class=\"data row2 col3\" >$655.00</td>\n                        <td id=\"T_8e7a9f5e_9a45_11eb_aab2_e45e37c43aaarow2_col4\" class=\"data row2 col4\" >76.63</td>\n                        <td id=\"T_8e7a9f5e_9a45_11eb_aab2_e45e37c43aaarow2_col5\" class=\"data row2 col5\" >81.18</td>\n                        <td id=\"T_8e7a9f5e_9a45_11eb_aab2_e45e37c43aaarow2_col6\" class=\"data row2 col6\" >65.68%</td>\n                        <td id=\"T_8e7a9f5e_9a45_11eb_aab2_e45e37c43aaarow2_col7\" class=\"data row2 col7\" >81.32%</td>\n                        <td id=\"T_8e7a9f5e_9a45_11eb_aab2_e45e37c43aaarow2_col8\" class=\"data row2 col8\" >53.51%</td>\n            </tr>\n            <tr>\n                        <th id=\"T_8e7a9f5e_9a45_11eb_aab2_e45e37c43aaalevel0_row3\" class=\"row_heading level0 row3\" >Hernandez High School</th>\n                        <td id=\"T_8e7a9f5e_9a45_11eb_aab2_e45e37c43aaarow3_col0\" class=\"data row3 col0\" >District</td>\n                        <td id=\"T_8e7a9f5e_9a45_11eb_aab2_e45e37c43aaarow3_col1\" class=\"data row3 col1\" >4,635</td>\n                        <td id=\"T_8e7a9f5e_9a45_11eb_aab2_e45e37c43aaarow3_col2\" class=\"data row3 col2\" >$3,022,020.00</td>\n                        <td id=\"T_8e7a9f5e_9a45_11eb_aab2_e45e37c43aaarow3_col3\" class=\"data row3 col3\" >$652.00</td>\n                        <td id=\"T_8e7a9f5e_9a45_11eb_aab2_e45e37c43aaarow3_col4\" class=\"data row3 col4\" >77.29</td>\n                        <td id=\"T_8e7a9f5e_9a45_11eb_aab2_e45e37c43aaarow3_col5\" class=\"data row3 col5\" >80.93</td>\n                        <td id=\"T_8e7a9f5e_9a45_11eb_aab2_e45e37c43aaarow3_col6\" class=\"data row3 col6\" >66.75%</td>\n                        <td id=\"T_8e7a9f5e_9a45_11eb_aab2_e45e37c43aaarow3_col7\" class=\"data row3 col7\" >80.86%</td>\n                        <td id=\"T_8e7a9f5e_9a45_11eb_aab2_e45e37c43aaarow3_col8\" class=\"data row3 col8\" >53.53%</td>\n            </tr>\n            <tr>\n                        <th id=\"T_8e7a9f5e_9a45_11eb_aab2_e45e37c43aaalevel0_row4\" class=\"row_heading level0 row4\" >Johnson High School</th>\n                        <td id=\"T_8e7a9f5e_9a45_11eb_aab2_e45e37c43aaarow4_col0\" class=\"data row4 col0\" >District</td>\n                        <td id=\"T_8e7a9f5e_9a45_11eb_aab2_e45e37c43aaarow4_col1\" class=\"data row4 col1\" >4,761</td>\n                        <td id=\"T_8e7a9f5e_9a45_11eb_aab2_e45e37c43aaarow4_col2\" class=\"data row4 col2\" >$3,094,650.00</td>\n                        <td id=\"T_8e7a9f5e_9a45_11eb_aab2_e45e37c43aaarow4_col3\" class=\"data row4 col3\" >$650.00</td>\n                        <td id=\"T_8e7a9f5e_9a45_11eb_aab2_e45e37c43aaarow4_col4\" class=\"data row4 col4\" >77.07</td>\n                        <td id=\"T_8e7a9f5e_9a45_11eb_aab2_e45e37c43aaarow4_col5\" class=\"data row4 col5\" >80.97</td>\n                        <td id=\"T_8e7a9f5e_9a45_11eb_aab2_e45e37c43aaarow4_col6\" class=\"data row4 col6\" >66.06%</td>\n                        <td id=\"T_8e7a9f5e_9a45_11eb_aab2_e45e37c43aaarow4_col7\" class=\"data row4 col7\" >81.22%</td>\n                        <td id=\"T_8e7a9f5e_9a45_11eb_aab2_e45e37c43aaarow4_col8\" class=\"data row4 col8\" >53.54%</td>\n            </tr>\n    </tbody></table>"
     },
     "execution_count": 20,
     "metadata": {},
     "output_type": "execute_result"
    }
   ],
   "source": [
    "top_schools_df = school_summary_df.sort_values('% Overall Passing').head(5)\n",
    "top_schools_df.style.format(output_format)"
   ],
   "metadata": {
    "collapsed": false,
    "pycharm": {
     "name": "#%%\n"
    }
   }
  },
  {
   "cell_type": "markdown",
   "metadata": {
    "collapsed": true
   },
   "source": [
    "## Math Scores by Grade"
   ]
  },
  {
   "cell_type": "markdown",
   "metadata": {},
   "source": [
    "* Create a table that lists the average Reading Score for students of each grade level (9th, 10th, 11th, 12th) at each school.\n",
    "\n",
    "  * Create a pandas series for each grade. Hint: use a conditional statement.\n",
    "  \n",
    "  * Group each series by school\n",
    "  \n",
    "  * Combine the series into a dataframe\n",
    "  \n",
    "  * Optional: give the displayed data cleaner formatting"
   ]
  },
  {
   "cell_type": "code",
   "execution_count": 7,
   "outputs": [
    {
     "data": {
      "text/plain": "<pandas.io.formats.style.Styler at 0x21edfcaacc8>",
      "text/html": "<style  type=\"text/css\" >\n</style><table id=\"T_db237314_9a44_11eb_bcd1_e45e37c43aaa\" ><thead>    <tr>        <th class=\"blank level0\" ></th>        <th class=\"col_heading level0 col0\" >9th</th>        <th class=\"col_heading level0 col1\" >10th</th>        <th class=\"col_heading level0 col2\" >11th</th>        <th class=\"col_heading level0 col3\" >12th</th>    </tr>    <tr>        <th class=\"index_name level0\" >school_name</th>        <th class=\"blank\" ></th>        <th class=\"blank\" ></th>        <th class=\"blank\" ></th>        <th class=\"blank\" ></th>    </tr></thead><tbody>\n                <tr>\n                        <th id=\"T_db237314_9a44_11eb_bcd1_e45e37c43aaalevel0_row0\" class=\"row_heading level0 row0\" >Bailey High School</th>\n                        <td id=\"T_db237314_9a44_11eb_bcd1_e45e37c43aaarow0_col0\" class=\"data row0 col0\" >77.08</td>\n                        <td id=\"T_db237314_9a44_11eb_bcd1_e45e37c43aaarow0_col1\" class=\"data row0 col1\" >77.00</td>\n                        <td id=\"T_db237314_9a44_11eb_bcd1_e45e37c43aaarow0_col2\" class=\"data row0 col2\" >77.52</td>\n                        <td id=\"T_db237314_9a44_11eb_bcd1_e45e37c43aaarow0_col3\" class=\"data row0 col3\" >76.49</td>\n            </tr>\n            <tr>\n                        <th id=\"T_db237314_9a44_11eb_bcd1_e45e37c43aaalevel0_row1\" class=\"row_heading level0 row1\" >Cabrera High School</th>\n                        <td id=\"T_db237314_9a44_11eb_bcd1_e45e37c43aaarow1_col0\" class=\"data row1 col0\" >83.09</td>\n                        <td id=\"T_db237314_9a44_11eb_bcd1_e45e37c43aaarow1_col1\" class=\"data row1 col1\" >83.15</td>\n                        <td id=\"T_db237314_9a44_11eb_bcd1_e45e37c43aaarow1_col2\" class=\"data row1 col2\" >82.77</td>\n                        <td id=\"T_db237314_9a44_11eb_bcd1_e45e37c43aaarow1_col3\" class=\"data row1 col3\" >83.28</td>\n            </tr>\n            <tr>\n                        <th id=\"T_db237314_9a44_11eb_bcd1_e45e37c43aaalevel0_row2\" class=\"row_heading level0 row2\" >Figueroa High School</th>\n                        <td id=\"T_db237314_9a44_11eb_bcd1_e45e37c43aaarow2_col0\" class=\"data row2 col0\" >76.40</td>\n                        <td id=\"T_db237314_9a44_11eb_bcd1_e45e37c43aaarow2_col1\" class=\"data row2 col1\" >76.54</td>\n                        <td id=\"T_db237314_9a44_11eb_bcd1_e45e37c43aaarow2_col2\" class=\"data row2 col2\" >76.88</td>\n                        <td id=\"T_db237314_9a44_11eb_bcd1_e45e37c43aaarow2_col3\" class=\"data row2 col3\" >77.15</td>\n            </tr>\n            <tr>\n                        <th id=\"T_db237314_9a44_11eb_bcd1_e45e37c43aaalevel0_row3\" class=\"row_heading level0 row3\" >Ford High School</th>\n                        <td id=\"T_db237314_9a44_11eb_bcd1_e45e37c43aaarow3_col0\" class=\"data row3 col0\" >77.36</td>\n                        <td id=\"T_db237314_9a44_11eb_bcd1_e45e37c43aaarow3_col1\" class=\"data row3 col1\" >77.67</td>\n                        <td id=\"T_db237314_9a44_11eb_bcd1_e45e37c43aaarow3_col2\" class=\"data row3 col2\" >76.92</td>\n                        <td id=\"T_db237314_9a44_11eb_bcd1_e45e37c43aaarow3_col3\" class=\"data row3 col3\" >76.18</td>\n            </tr>\n            <tr>\n                        <th id=\"T_db237314_9a44_11eb_bcd1_e45e37c43aaalevel0_row4\" class=\"row_heading level0 row4\" >Griffin High School</th>\n                        <td id=\"T_db237314_9a44_11eb_bcd1_e45e37c43aaarow4_col0\" class=\"data row4 col0\" >82.04</td>\n                        <td id=\"T_db237314_9a44_11eb_bcd1_e45e37c43aaarow4_col1\" class=\"data row4 col1\" >84.23</td>\n                        <td id=\"T_db237314_9a44_11eb_bcd1_e45e37c43aaarow4_col2\" class=\"data row4 col2\" >83.84</td>\n                        <td id=\"T_db237314_9a44_11eb_bcd1_e45e37c43aaarow4_col3\" class=\"data row4 col3\" >83.36</td>\n            </tr>\n            <tr>\n                        <th id=\"T_db237314_9a44_11eb_bcd1_e45e37c43aaalevel0_row5\" class=\"row_heading level0 row5\" >Hernandez High School</th>\n                        <td id=\"T_db237314_9a44_11eb_bcd1_e45e37c43aaarow5_col0\" class=\"data row5 col0\" >77.44</td>\n                        <td id=\"T_db237314_9a44_11eb_bcd1_e45e37c43aaarow5_col1\" class=\"data row5 col1\" >77.34</td>\n                        <td id=\"T_db237314_9a44_11eb_bcd1_e45e37c43aaarow5_col2\" class=\"data row5 col2\" >77.14</td>\n                        <td id=\"T_db237314_9a44_11eb_bcd1_e45e37c43aaarow5_col3\" class=\"data row5 col3\" >77.19</td>\n            </tr>\n            <tr>\n                        <th id=\"T_db237314_9a44_11eb_bcd1_e45e37c43aaalevel0_row6\" class=\"row_heading level0 row6\" >Holden High School</th>\n                        <td id=\"T_db237314_9a44_11eb_bcd1_e45e37c43aaarow6_col0\" class=\"data row6 col0\" >83.79</td>\n                        <td id=\"T_db237314_9a44_11eb_bcd1_e45e37c43aaarow6_col1\" class=\"data row6 col1\" >83.43</td>\n                        <td id=\"T_db237314_9a44_11eb_bcd1_e45e37c43aaarow6_col2\" class=\"data row6 col2\" >85.00</td>\n                        <td id=\"T_db237314_9a44_11eb_bcd1_e45e37c43aaarow6_col3\" class=\"data row6 col3\" >82.86</td>\n            </tr>\n            <tr>\n                        <th id=\"T_db237314_9a44_11eb_bcd1_e45e37c43aaalevel0_row7\" class=\"row_heading level0 row7\" >Huang High School</th>\n                        <td id=\"T_db237314_9a44_11eb_bcd1_e45e37c43aaarow7_col0\" class=\"data row7 col0\" >77.03</td>\n                        <td id=\"T_db237314_9a44_11eb_bcd1_e45e37c43aaarow7_col1\" class=\"data row7 col1\" >75.91</td>\n                        <td id=\"T_db237314_9a44_11eb_bcd1_e45e37c43aaarow7_col2\" class=\"data row7 col2\" >76.45</td>\n                        <td id=\"T_db237314_9a44_11eb_bcd1_e45e37c43aaarow7_col3\" class=\"data row7 col3\" >77.23</td>\n            </tr>\n            <tr>\n                        <th id=\"T_db237314_9a44_11eb_bcd1_e45e37c43aaalevel0_row8\" class=\"row_heading level0 row8\" >Johnson High School</th>\n                        <td id=\"T_db237314_9a44_11eb_bcd1_e45e37c43aaarow8_col0\" class=\"data row8 col0\" >77.19</td>\n                        <td id=\"T_db237314_9a44_11eb_bcd1_e45e37c43aaarow8_col1\" class=\"data row8 col1\" >76.69</td>\n                        <td id=\"T_db237314_9a44_11eb_bcd1_e45e37c43aaarow8_col2\" class=\"data row8 col2\" >77.49</td>\n                        <td id=\"T_db237314_9a44_11eb_bcd1_e45e37c43aaarow8_col3\" class=\"data row8 col3\" >76.86</td>\n            </tr>\n            <tr>\n                        <th id=\"T_db237314_9a44_11eb_bcd1_e45e37c43aaalevel0_row9\" class=\"row_heading level0 row9\" >Pena High School</th>\n                        <td id=\"T_db237314_9a44_11eb_bcd1_e45e37c43aaarow9_col0\" class=\"data row9 col0\" >83.63</td>\n                        <td id=\"T_db237314_9a44_11eb_bcd1_e45e37c43aaarow9_col1\" class=\"data row9 col1\" >83.37</td>\n                        <td id=\"T_db237314_9a44_11eb_bcd1_e45e37c43aaarow9_col2\" class=\"data row9 col2\" >84.33</td>\n                        <td id=\"T_db237314_9a44_11eb_bcd1_e45e37c43aaarow9_col3\" class=\"data row9 col3\" >84.12</td>\n            </tr>\n            <tr>\n                        <th id=\"T_db237314_9a44_11eb_bcd1_e45e37c43aaalevel0_row10\" class=\"row_heading level0 row10\" >Rodriguez High School</th>\n                        <td id=\"T_db237314_9a44_11eb_bcd1_e45e37c43aaarow10_col0\" class=\"data row10 col0\" >76.86</td>\n                        <td id=\"T_db237314_9a44_11eb_bcd1_e45e37c43aaarow10_col1\" class=\"data row10 col1\" >76.61</td>\n                        <td id=\"T_db237314_9a44_11eb_bcd1_e45e37c43aaarow10_col2\" class=\"data row10 col2\" >76.40</td>\n                        <td id=\"T_db237314_9a44_11eb_bcd1_e45e37c43aaarow10_col3\" class=\"data row10 col3\" >77.69</td>\n            </tr>\n            <tr>\n                        <th id=\"T_db237314_9a44_11eb_bcd1_e45e37c43aaalevel0_row11\" class=\"row_heading level0 row11\" >Shelton High School</th>\n                        <td id=\"T_db237314_9a44_11eb_bcd1_e45e37c43aaarow11_col0\" class=\"data row11 col0\" >83.42</td>\n                        <td id=\"T_db237314_9a44_11eb_bcd1_e45e37c43aaarow11_col1\" class=\"data row11 col1\" >82.92</td>\n                        <td id=\"T_db237314_9a44_11eb_bcd1_e45e37c43aaarow11_col2\" class=\"data row11 col2\" >83.38</td>\n                        <td id=\"T_db237314_9a44_11eb_bcd1_e45e37c43aaarow11_col3\" class=\"data row11 col3\" >83.78</td>\n            </tr>\n            <tr>\n                        <th id=\"T_db237314_9a44_11eb_bcd1_e45e37c43aaalevel0_row12\" class=\"row_heading level0 row12\" >Thomas High School</th>\n                        <td id=\"T_db237314_9a44_11eb_bcd1_e45e37c43aaarow12_col0\" class=\"data row12 col0\" >83.59</td>\n                        <td id=\"T_db237314_9a44_11eb_bcd1_e45e37c43aaarow12_col1\" class=\"data row12 col1\" >83.09</td>\n                        <td id=\"T_db237314_9a44_11eb_bcd1_e45e37c43aaarow12_col2\" class=\"data row12 col2\" >83.50</td>\n                        <td id=\"T_db237314_9a44_11eb_bcd1_e45e37c43aaarow12_col3\" class=\"data row12 col3\" >83.50</td>\n            </tr>\n            <tr>\n                        <th id=\"T_db237314_9a44_11eb_bcd1_e45e37c43aaalevel0_row13\" class=\"row_heading level0 row13\" >Wilson High School</th>\n                        <td id=\"T_db237314_9a44_11eb_bcd1_e45e37c43aaarow13_col0\" class=\"data row13 col0\" >83.09</td>\n                        <td id=\"T_db237314_9a44_11eb_bcd1_e45e37c43aaarow13_col1\" class=\"data row13 col1\" >83.72</td>\n                        <td id=\"T_db237314_9a44_11eb_bcd1_e45e37c43aaarow13_col2\" class=\"data row13 col2\" >83.20</td>\n                        <td id=\"T_db237314_9a44_11eb_bcd1_e45e37c43aaarow13_col3\" class=\"data row13 col3\" >83.04</td>\n            </tr>\n            <tr>\n                        <th id=\"T_db237314_9a44_11eb_bcd1_e45e37c43aaalevel0_row14\" class=\"row_heading level0 row14\" >Wright High School</th>\n                        <td id=\"T_db237314_9a44_11eb_bcd1_e45e37c43aaarow14_col0\" class=\"data row14 col0\" >83.26</td>\n                        <td id=\"T_db237314_9a44_11eb_bcd1_e45e37c43aaarow14_col1\" class=\"data row14 col1\" >84.01</td>\n                        <td id=\"T_db237314_9a44_11eb_bcd1_e45e37c43aaarow14_col2\" class=\"data row14 col2\" >83.84</td>\n                        <td id=\"T_db237314_9a44_11eb_bcd1_e45e37c43aaarow14_col3\" class=\"data row14 col3\" >83.64</td>\n            </tr>\n    </tbody></table>"
     },
     "execution_count": 7,
     "metadata": {},
     "output_type": "execute_result"
    }
   ],
   "source": [
    "# get average per school for each grade\n",
    "math_9 = student_data.loc[(student_data['grade'] == '9th'), ['school_name', 'math_score']]\n",
    "math_9_avg = math_9.groupby('school_name')['math_score'].mean()\n",
    "math_9_avg.rename('9th', inplace=True)\n",
    "\n",
    "math_10 = student_data.loc[(student_data['grade'] == '10th'), ['school_name', 'math_score']]\n",
    "math_10_avg = math_10.groupby('school_name')['math_score'].mean()\n",
    "math_10_avg.rename('10th', inplace=True)\n",
    "\n",
    "math_11 = student_data.loc[(student_data['grade'] == '11th'), ['school_name', 'math_score']]\n",
    "math_11_avg = math_11.groupby('school_name')['math_score'].mean()\n",
    "math_11_avg.rename('11th', inplace=True)\n",
    "\n",
    "math_12 = student_data.loc[(student_data['grade'] == '12th'), ['school_name', 'math_score']]\n",
    "math_12_avg = math_12.groupby('school_name')['math_score'].mean()\n",
    "math_12_avg.rename('12th', inplace=True)\n",
    "\n",
    "# merge results together into dataframe\n",
    "math_avg_df = math_9_avg.to_frame()\n",
    "math_avg_df = math_avg_df.merge(math_10_avg, on='school_name', how='inner')\n",
    "math_avg_df = math_avg_df.merge(math_11_avg, on='school_name', how='inner')\n",
    "math_avg_df = math_avg_df.merge(math_12_avg, on='school_name', how='inner')\n",
    "\n",
    "# print results\n",
    "math_avg_df.style.format({\n",
    "    '9th': '{:.2f}',\n",
    "    '10th': '{:.2f}',\n",
    "    '11th': '{:.2f}',\n",
    "    '12th': '{:.2f}'\n",
    "})\n"
   ],
   "metadata": {
    "collapsed": false,
    "pycharm": {
     "name": "#%%\n"
    }
   }
  },
  {
   "cell_type": "markdown",
   "metadata": {},
   "source": [
    "## Reading Score by Grade "
   ]
  },
  {
   "cell_type": "markdown",
   "metadata": {},
   "source": [
    "* Perform the same operations as above for reading scores"
   ]
  },
  {
   "cell_type": "code",
   "execution_count": 7,
   "metadata": {},
   "outputs": [],
   "source": []
  },
  {
   "cell_type": "code",
   "execution_count": 8,
   "outputs": [
    {
     "data": {
      "text/plain": "<pandas.io.formats.style.Styler at 0x21edfcaa2c8>",
      "text/html": "<style  type=\"text/css\" >\n</style><table id=\"T_db298102_9a44_11eb_8be1_e45e37c43aaa\" ><thead>    <tr>        <th class=\"blank level0\" ></th>        <th class=\"col_heading level0 col0\" >9th</th>        <th class=\"col_heading level0 col1\" >10th</th>        <th class=\"col_heading level0 col2\" >11th</th>        <th class=\"col_heading level0 col3\" >12th</th>    </tr>    <tr>        <th class=\"index_name level0\" >school_name</th>        <th class=\"blank\" ></th>        <th class=\"blank\" ></th>        <th class=\"blank\" ></th>        <th class=\"blank\" ></th>    </tr></thead><tbody>\n                <tr>\n                        <th id=\"T_db298102_9a44_11eb_8be1_e45e37c43aaalevel0_row0\" class=\"row_heading level0 row0\" >Bailey High School</th>\n                        <td id=\"T_db298102_9a44_11eb_8be1_e45e37c43aaarow0_col0\" class=\"data row0 col0\" >81.30</td>\n                        <td id=\"T_db298102_9a44_11eb_8be1_e45e37c43aaarow0_col1\" class=\"data row0 col1\" >80.91</td>\n                        <td id=\"T_db298102_9a44_11eb_8be1_e45e37c43aaarow0_col2\" class=\"data row0 col2\" >80.95</td>\n                        <td id=\"T_db298102_9a44_11eb_8be1_e45e37c43aaarow0_col3\" class=\"data row0 col3\" >80.91</td>\n            </tr>\n            <tr>\n                        <th id=\"T_db298102_9a44_11eb_8be1_e45e37c43aaalevel0_row1\" class=\"row_heading level0 row1\" >Cabrera High School</th>\n                        <td id=\"T_db298102_9a44_11eb_8be1_e45e37c43aaarow1_col0\" class=\"data row1 col0\" >83.68</td>\n                        <td id=\"T_db298102_9a44_11eb_8be1_e45e37c43aaarow1_col1\" class=\"data row1 col1\" >84.25</td>\n                        <td id=\"T_db298102_9a44_11eb_8be1_e45e37c43aaarow1_col2\" class=\"data row1 col2\" >83.79</td>\n                        <td id=\"T_db298102_9a44_11eb_8be1_e45e37c43aaarow1_col3\" class=\"data row1 col3\" >84.29</td>\n            </tr>\n            <tr>\n                        <th id=\"T_db298102_9a44_11eb_8be1_e45e37c43aaalevel0_row2\" class=\"row_heading level0 row2\" >Figueroa High School</th>\n                        <td id=\"T_db298102_9a44_11eb_8be1_e45e37c43aaarow2_col0\" class=\"data row2 col0\" >81.20</td>\n                        <td id=\"T_db298102_9a44_11eb_8be1_e45e37c43aaarow2_col1\" class=\"data row2 col1\" >81.41</td>\n                        <td id=\"T_db298102_9a44_11eb_8be1_e45e37c43aaarow2_col2\" class=\"data row2 col2\" >80.64</td>\n                        <td id=\"T_db298102_9a44_11eb_8be1_e45e37c43aaarow2_col3\" class=\"data row2 col3\" >81.38</td>\n            </tr>\n            <tr>\n                        <th id=\"T_db298102_9a44_11eb_8be1_e45e37c43aaalevel0_row3\" class=\"row_heading level0 row3\" >Ford High School</th>\n                        <td id=\"T_db298102_9a44_11eb_8be1_e45e37c43aaarow3_col0\" class=\"data row3 col0\" >80.63</td>\n                        <td id=\"T_db298102_9a44_11eb_8be1_e45e37c43aaarow3_col1\" class=\"data row3 col1\" >81.26</td>\n                        <td id=\"T_db298102_9a44_11eb_8be1_e45e37c43aaarow3_col2\" class=\"data row3 col2\" >80.40</td>\n                        <td id=\"T_db298102_9a44_11eb_8be1_e45e37c43aaarow3_col3\" class=\"data row3 col3\" >80.66</td>\n            </tr>\n            <tr>\n                        <th id=\"T_db298102_9a44_11eb_8be1_e45e37c43aaalevel0_row4\" class=\"row_heading level0 row4\" >Griffin High School</th>\n                        <td id=\"T_db298102_9a44_11eb_8be1_e45e37c43aaarow4_col0\" class=\"data row4 col0\" >83.37</td>\n                        <td id=\"T_db298102_9a44_11eb_8be1_e45e37c43aaarow4_col1\" class=\"data row4 col1\" >83.71</td>\n                        <td id=\"T_db298102_9a44_11eb_8be1_e45e37c43aaarow4_col2\" class=\"data row4 col2\" >84.29</td>\n                        <td id=\"T_db298102_9a44_11eb_8be1_e45e37c43aaarow4_col3\" class=\"data row4 col3\" >84.01</td>\n            </tr>\n            <tr>\n                        <th id=\"T_db298102_9a44_11eb_8be1_e45e37c43aaalevel0_row5\" class=\"row_heading level0 row5\" >Hernandez High School</th>\n                        <td id=\"T_db298102_9a44_11eb_8be1_e45e37c43aaarow5_col0\" class=\"data row5 col0\" >80.87</td>\n                        <td id=\"T_db298102_9a44_11eb_8be1_e45e37c43aaarow5_col1\" class=\"data row5 col1\" >80.66</td>\n                        <td id=\"T_db298102_9a44_11eb_8be1_e45e37c43aaarow5_col2\" class=\"data row5 col2\" >81.40</td>\n                        <td id=\"T_db298102_9a44_11eb_8be1_e45e37c43aaarow5_col3\" class=\"data row5 col3\" >80.86</td>\n            </tr>\n            <tr>\n                        <th id=\"T_db298102_9a44_11eb_8be1_e45e37c43aaalevel0_row6\" class=\"row_heading level0 row6\" >Holden High School</th>\n                        <td id=\"T_db298102_9a44_11eb_8be1_e45e37c43aaarow6_col0\" class=\"data row6 col0\" >83.68</td>\n                        <td id=\"T_db298102_9a44_11eb_8be1_e45e37c43aaarow6_col1\" class=\"data row6 col1\" >83.32</td>\n                        <td id=\"T_db298102_9a44_11eb_8be1_e45e37c43aaarow6_col2\" class=\"data row6 col2\" >83.82</td>\n                        <td id=\"T_db298102_9a44_11eb_8be1_e45e37c43aaarow6_col3\" class=\"data row6 col3\" >84.70</td>\n            </tr>\n            <tr>\n                        <th id=\"T_db298102_9a44_11eb_8be1_e45e37c43aaalevel0_row7\" class=\"row_heading level0 row7\" >Huang High School</th>\n                        <td id=\"T_db298102_9a44_11eb_8be1_e45e37c43aaarow7_col0\" class=\"data row7 col0\" >81.29</td>\n                        <td id=\"T_db298102_9a44_11eb_8be1_e45e37c43aaarow7_col1\" class=\"data row7 col1\" >81.51</td>\n                        <td id=\"T_db298102_9a44_11eb_8be1_e45e37c43aaarow7_col2\" class=\"data row7 col2\" >81.42</td>\n                        <td id=\"T_db298102_9a44_11eb_8be1_e45e37c43aaarow7_col3\" class=\"data row7 col3\" >80.31</td>\n            </tr>\n            <tr>\n                        <th id=\"T_db298102_9a44_11eb_8be1_e45e37c43aaalevel0_row8\" class=\"row_heading level0 row8\" >Johnson High School</th>\n                        <td id=\"T_db298102_9a44_11eb_8be1_e45e37c43aaarow8_col0\" class=\"data row8 col0\" >81.26</td>\n                        <td id=\"T_db298102_9a44_11eb_8be1_e45e37c43aaarow8_col1\" class=\"data row8 col1\" >80.77</td>\n                        <td id=\"T_db298102_9a44_11eb_8be1_e45e37c43aaarow8_col2\" class=\"data row8 col2\" >80.62</td>\n                        <td id=\"T_db298102_9a44_11eb_8be1_e45e37c43aaarow8_col3\" class=\"data row8 col3\" >81.23</td>\n            </tr>\n            <tr>\n                        <th id=\"T_db298102_9a44_11eb_8be1_e45e37c43aaalevel0_row9\" class=\"row_heading level0 row9\" >Pena High School</th>\n                        <td id=\"T_db298102_9a44_11eb_8be1_e45e37c43aaarow9_col0\" class=\"data row9 col0\" >83.81</td>\n                        <td id=\"T_db298102_9a44_11eb_8be1_e45e37c43aaarow9_col1\" class=\"data row9 col1\" >83.61</td>\n                        <td id=\"T_db298102_9a44_11eb_8be1_e45e37c43aaarow9_col2\" class=\"data row9 col2\" >84.34</td>\n                        <td id=\"T_db298102_9a44_11eb_8be1_e45e37c43aaarow9_col3\" class=\"data row9 col3\" >84.59</td>\n            </tr>\n            <tr>\n                        <th id=\"T_db298102_9a44_11eb_8be1_e45e37c43aaalevel0_row10\" class=\"row_heading level0 row10\" >Rodriguez High School</th>\n                        <td id=\"T_db298102_9a44_11eb_8be1_e45e37c43aaarow10_col0\" class=\"data row10 col0\" >80.99</td>\n                        <td id=\"T_db298102_9a44_11eb_8be1_e45e37c43aaarow10_col1\" class=\"data row10 col1\" >80.63</td>\n                        <td id=\"T_db298102_9a44_11eb_8be1_e45e37c43aaarow10_col2\" class=\"data row10 col2\" >80.86</td>\n                        <td id=\"T_db298102_9a44_11eb_8be1_e45e37c43aaarow10_col3\" class=\"data row10 col3\" >80.38</td>\n            </tr>\n            <tr>\n                        <th id=\"T_db298102_9a44_11eb_8be1_e45e37c43aaalevel0_row11\" class=\"row_heading level0 row11\" >Shelton High School</th>\n                        <td id=\"T_db298102_9a44_11eb_8be1_e45e37c43aaarow11_col0\" class=\"data row11 col0\" >84.12</td>\n                        <td id=\"T_db298102_9a44_11eb_8be1_e45e37c43aaarow11_col1\" class=\"data row11 col1\" >83.44</td>\n                        <td id=\"T_db298102_9a44_11eb_8be1_e45e37c43aaarow11_col2\" class=\"data row11 col2\" >84.37</td>\n                        <td id=\"T_db298102_9a44_11eb_8be1_e45e37c43aaarow11_col3\" class=\"data row11 col3\" >82.78</td>\n            </tr>\n            <tr>\n                        <th id=\"T_db298102_9a44_11eb_8be1_e45e37c43aaalevel0_row12\" class=\"row_heading level0 row12\" >Thomas High School</th>\n                        <td id=\"T_db298102_9a44_11eb_8be1_e45e37c43aaarow12_col0\" class=\"data row12 col0\" >83.73</td>\n                        <td id=\"T_db298102_9a44_11eb_8be1_e45e37c43aaarow12_col1\" class=\"data row12 col1\" >84.25</td>\n                        <td id=\"T_db298102_9a44_11eb_8be1_e45e37c43aaarow12_col2\" class=\"data row12 col2\" >83.59</td>\n                        <td id=\"T_db298102_9a44_11eb_8be1_e45e37c43aaarow12_col3\" class=\"data row12 col3\" >83.83</td>\n            </tr>\n            <tr>\n                        <th id=\"T_db298102_9a44_11eb_8be1_e45e37c43aaalevel0_row13\" class=\"row_heading level0 row13\" >Wilson High School</th>\n                        <td id=\"T_db298102_9a44_11eb_8be1_e45e37c43aaarow13_col0\" class=\"data row13 col0\" >83.94</td>\n                        <td id=\"T_db298102_9a44_11eb_8be1_e45e37c43aaarow13_col1\" class=\"data row13 col1\" >84.02</td>\n                        <td id=\"T_db298102_9a44_11eb_8be1_e45e37c43aaarow13_col2\" class=\"data row13 col2\" >83.76</td>\n                        <td id=\"T_db298102_9a44_11eb_8be1_e45e37c43aaarow13_col3\" class=\"data row13 col3\" >84.32</td>\n            </tr>\n            <tr>\n                        <th id=\"T_db298102_9a44_11eb_8be1_e45e37c43aaalevel0_row14\" class=\"row_heading level0 row14\" >Wright High School</th>\n                        <td id=\"T_db298102_9a44_11eb_8be1_e45e37c43aaarow14_col0\" class=\"data row14 col0\" >83.83</td>\n                        <td id=\"T_db298102_9a44_11eb_8be1_e45e37c43aaarow14_col1\" class=\"data row14 col1\" >83.81</td>\n                        <td id=\"T_db298102_9a44_11eb_8be1_e45e37c43aaarow14_col2\" class=\"data row14 col2\" >84.16</td>\n                        <td id=\"T_db298102_9a44_11eb_8be1_e45e37c43aaarow14_col3\" class=\"data row14 col3\" >84.07</td>\n            </tr>\n    </tbody></table>"
     },
     "execution_count": 8,
     "metadata": {},
     "output_type": "execute_result"
    }
   ],
   "source": [
    "# get average per school for each grade\n",
    "reading_9 = student_data.loc[(student_data['grade'] == '9th'), ['school_name', 'reading_score']]\n",
    "reading_9_avg = reading_9.groupby('school_name')['reading_score'].mean()\n",
    "reading_9_avg.rename('9th', inplace=True)\n",
    "\n",
    "reading_10 = student_data.loc[(student_data['grade'] == '10th'), ['school_name', 'reading_score']]\n",
    "reading_10_avg = reading_10.groupby('school_name')['reading_score'].mean()\n",
    "reading_10_avg.rename('10th', inplace=True)\n",
    "\n",
    "reading_11 = student_data.loc[(student_data['grade'] == '11th'), ['school_name', 'reading_score']]\n",
    "reading_11_avg = reading_11.groupby('school_name')['reading_score'].mean()\n",
    "reading_11_avg.rename('11th', inplace=True)\n",
    "\n",
    "reading_12 = student_data.loc[(student_data['grade'] == '12th'), ['school_name', 'reading_score']]\n",
    "reading_12_avg = reading_12.groupby('school_name')['reading_score'].mean()\n",
    "reading_12_avg.rename('12th', inplace=True)\n",
    "\n",
    "# merge results together into dataframe\n",
    "reading_avg_df = reading_9_avg.to_frame()\n",
    "reading_avg_df = reading_avg_df.merge(reading_10_avg, on='school_name', how='inner')\n",
    "reading_avg_df = reading_avg_df.merge(reading_11_avg, on='school_name', how='inner')\n",
    "reading_avg_df = reading_avg_df.merge(reading_12_avg, on='school_name', how='inner')\n",
    "\n",
    "# print results\n",
    "reading_avg_df.style.format({\n",
    "    '9th': '{:.2f}',\n",
    "    '10th': '{:.2f}',\n",
    "    '11th': '{:.2f}',\n",
    "    '12th': '{:.2f}'\n",
    "})"
   ],
   "metadata": {
    "collapsed": false,
    "pycharm": {
     "name": "#%%\n"
    }
   }
  },
  {
   "cell_type": "markdown",
   "metadata": {},
   "source": [
    "## Scores by School Spending"
   ]
  },
  {
   "cell_type": "markdown",
   "metadata": {},
   "source": [
    "* Create a table that breaks down school performances based on average Spending Ranges (Per Student). Use 4 reasonable bins to group school spending. Include in the table each of the following:\n",
    "  * Average Math Score\n",
    "  * Average Reading Score\n",
    "  * % Passing Math\n",
    "  * % Passing Reading\n",
    "  * Overall Passing Rate (Average of the above two)"
   ]
  },
  {
   "cell_type": "code",
   "execution_count": 9,
   "outputs": [
    {
     "name": "stderr",
     "output_type": "stream",
     "text": [
      "c:\\users\\nconn\\appdata\\local\\programs\\python\\python37\\lib\\site-packages\\ipykernel_launcher.py:5: FutureWarning: Indexing with multiple keys (implicitly converted to a tuple of keys) will be deprecated, use a list instead.\n",
      "  \"\"\"\n"
     ]
    },
    {
     "data": {
      "text/plain": "<pandas.io.formats.style.Styler at 0x21edfcf8288>",
      "text/html": "<style  type=\"text/css\" >\n</style><table id=\"T_db2b5206_9a44_11eb_b720_e45e37c43aaa\" ><thead>    <tr>        <th class=\"blank level0\" ></th>        <th class=\"col_heading level0 col0\" >Average Math Score</th>        <th class=\"col_heading level0 col1\" >Average Reading Score</th>        <th class=\"col_heading level0 col2\" >% Passing Math</th>        <th class=\"col_heading level0 col3\" >% Passing Reading</th>        <th class=\"col_heading level0 col4\" >% Overall Passing</th>    </tr>    <tr>        <th class=\"index_name level0\" >Spending Range (Per Student)</th>        <th class=\"blank\" ></th>        <th class=\"blank\" ></th>        <th class=\"blank\" ></th>        <th class=\"blank\" ></th>        <th class=\"blank\" ></th>    </tr></thead><tbody>\n                <tr>\n                        <th id=\"T_db2b5206_9a44_11eb_b720_e45e37c43aaalevel0_row0\" class=\"row_heading level0 row0\" >$575-600</th>\n                        <td id=\"T_db2b5206_9a44_11eb_b720_e45e37c43aaarow0_col0\" class=\"data row0 col0\" >83.44</td>\n                        <td id=\"T_db2b5206_9a44_11eb_b720_e45e37c43aaarow0_col1\" class=\"data row0 col1\" >83.89</td>\n                        <td id=\"T_db2b5206_9a44_11eb_b720_e45e37c43aaarow0_col2\" class=\"data row0 col2\" >93.54%</td>\n                        <td id=\"T_db2b5206_9a44_11eb_b720_e45e37c43aaarow0_col3\" class=\"data row0 col3\" >96.46%</td>\n                        <td id=\"T_db2b5206_9a44_11eb_b720_e45e37c43aaarow0_col4\" class=\"data row0 col4\" >90.27%</td>\n            </tr>\n            <tr>\n                        <th id=\"T_db2b5206_9a44_11eb_b720_e45e37c43aaalevel0_row1\" class=\"row_heading level0 row1\" >$600-625</th>\n                        <td id=\"T_db2b5206_9a44_11eb_b720_e45e37c43aaarow1_col0\" class=\"data row1 col0\" >83.60</td>\n                        <td id=\"T_db2b5206_9a44_11eb_b720_e45e37c43aaarow1_col1\" class=\"data row1 col1\" >83.93</td>\n                        <td id=\"T_db2b5206_9a44_11eb_b720_e45e37c43aaarow1_col2\" class=\"data row1 col2\" >93.99%</td>\n                        <td id=\"T_db2b5206_9a44_11eb_b720_e45e37c43aaarow1_col3\" class=\"data row1 col3\" >96.54%</td>\n                        <td id=\"T_db2b5206_9a44_11eb_b720_e45e37c43aaarow1_col4\" class=\"data row1 col4\" >90.57%</td>\n            </tr>\n            <tr>\n                        <th id=\"T_db2b5206_9a44_11eb_b720_e45e37c43aaalevel0_row2\" class=\"row_heading level0 row2\" >$625-650</th>\n                        <td id=\"T_db2b5206_9a44_11eb_b720_e45e37c43aaarow2_col0\" class=\"data row2 col0\" >78.03</td>\n                        <td id=\"T_db2b5206_9a44_11eb_b720_e45e37c43aaarow2_col1\" class=\"data row2 col1\" >81.42</td>\n                        <td id=\"T_db2b5206_9a44_11eb_b720_e45e37c43aaarow2_col2\" class=\"data row2 col2\" >71.11%</td>\n                        <td id=\"T_db2b5206_9a44_11eb_b720_e45e37c43aaarow2_col3\" class=\"data row2 col3\" >83.45%</td>\n                        <td id=\"T_db2b5206_9a44_11eb_b720_e45e37c43aaarow2_col4\" class=\"data row2 col4\" >59.94%</td>\n            </tr>\n            <tr>\n                        <th id=\"T_db2b5206_9a44_11eb_b720_e45e37c43aaalevel0_row3\" class=\"row_heading level0 row3\" >$650-675</th>\n                        <td id=\"T_db2b5206_9a44_11eb_b720_e45e37c43aaarow3_col0\" class=\"data row3 col0\" >76.96</td>\n                        <td id=\"T_db2b5206_9a44_11eb_b720_e45e37c43aaarow3_col1\" class=\"data row3 col1\" >81.06</td>\n                        <td id=\"T_db2b5206_9a44_11eb_b720_e45e37c43aaarow3_col2\" class=\"data row3 col2\" >66.22%</td>\n                        <td id=\"T_db2b5206_9a44_11eb_b720_e45e37c43aaarow3_col3\" class=\"data row3 col3\" >81.09%</td>\n                        <td id=\"T_db2b5206_9a44_11eb_b720_e45e37c43aaarow3_col4\" class=\"data row3 col4\" >53.52%</td>\n            </tr>\n    </tbody></table>"
     },
     "execution_count": 9,
     "metadata": {},
     "output_type": "execute_result"
    }
   ],
   "source": [
    "spending_bins = [575, 600, 625, 650, 675]\n",
    "spending_labels = ['$575-600', '$600-625', '$625-650', '$650-675']\n",
    "\n",
    "school_summary_df['Spending Range (Per Student)'] = pd.cut(school_summary_df['Per Student Budget'], spending_bins, labels=spending_labels, include_lowest=True)\n",
    "school_summary_df.groupby('Spending Range (Per Student)')['Average Math Score', 'Average Reading Score', '% Passing Math', '% Passing Reading', '% Overall Passing'].mean().style.format(output_format)"
   ],
   "metadata": {
    "collapsed": false,
    "pycharm": {
     "name": "#%%\n"
    }
   }
  },
  {
   "cell_type": "markdown",
   "metadata": {},
   "source": [
    "## Scores by School Size"
   ]
  },
  {
   "cell_type": "markdown",
   "metadata": {},
   "source": [
    "* Perform the same operations as above, based on school size."
   ]
  },
  {
   "cell_type": "code",
   "execution_count": 10,
   "outputs": [
    {
     "name": "stderr",
     "output_type": "stream",
     "text": [
      "c:\\users\\nconn\\appdata\\local\\programs\\python\\python37\\lib\\site-packages\\ipykernel_launcher.py:5: FutureWarning: Indexing with multiple keys (implicitly converted to a tuple of keys) will be deprecated, use a list instead.\n",
      "  \"\"\"\n"
     ]
    },
    {
     "data": {
      "text/plain": "<pandas.io.formats.style.Styler at 0x21edfcea0c8>",
      "text/html": "<style  type=\"text/css\" >\n</style><table id=\"T_db2d0fa2_9a44_11eb_8139_e45e37c43aaa\" ><thead>    <tr>        <th class=\"blank level0\" ></th>        <th class=\"col_heading level0 col0\" >Average Math Score</th>        <th class=\"col_heading level0 col1\" >Average Reading Score</th>        <th class=\"col_heading level0 col2\" >% Passing Math</th>        <th class=\"col_heading level0 col3\" >% Passing Reading</th>        <th class=\"col_heading level0 col4\" >% Overall Passing</th>    </tr>    <tr>        <th class=\"index_name level0\" >School Size</th>        <th class=\"blank\" ></th>        <th class=\"blank\" ></th>        <th class=\"blank\" ></th>        <th class=\"blank\" ></th>        <th class=\"blank\" ></th>    </tr></thead><tbody>\n                <tr>\n                        <th id=\"T_db2d0fa2_9a44_11eb_8139_e45e37c43aaalevel0_row0\" class=\"row_heading level0 row0\" >Small (<1000)</th>\n                        <td id=\"T_db2d0fa2_9a44_11eb_8139_e45e37c43aaarow0_col0\" class=\"data row0 col0\" >83.82</td>\n                        <td id=\"T_db2d0fa2_9a44_11eb_8139_e45e37c43aaarow0_col1\" class=\"data row0 col1\" >83.93</td>\n                        <td id=\"T_db2d0fa2_9a44_11eb_8139_e45e37c43aaarow0_col2\" class=\"data row0 col2\" >93.55%</td>\n                        <td id=\"T_db2d0fa2_9a44_11eb_8139_e45e37c43aaarow0_col3\" class=\"data row0 col3\" >96.10%</td>\n                        <td id=\"T_db2d0fa2_9a44_11eb_8139_e45e37c43aaarow0_col4\" class=\"data row0 col4\" >89.88%</td>\n            </tr>\n            <tr>\n                        <th id=\"T_db2d0fa2_9a44_11eb_8139_e45e37c43aaalevel0_row1\" class=\"row_heading level0 row1\" >Medium (1000-2000)</th>\n                        <td id=\"T_db2d0fa2_9a44_11eb_8139_e45e37c43aaarow1_col0\" class=\"data row1 col0\" >83.37</td>\n                        <td id=\"T_db2d0fa2_9a44_11eb_8139_e45e37c43aaarow1_col1\" class=\"data row1 col1\" >83.86</td>\n                        <td id=\"T_db2d0fa2_9a44_11eb_8139_e45e37c43aaarow1_col2\" class=\"data row1 col2\" >93.60%</td>\n                        <td id=\"T_db2d0fa2_9a44_11eb_8139_e45e37c43aaarow1_col3\" class=\"data row1 col3\" >96.79%</td>\n                        <td id=\"T_db2d0fa2_9a44_11eb_8139_e45e37c43aaarow1_col4\" class=\"data row1 col4\" >90.62%</td>\n            </tr>\n            <tr>\n                        <th id=\"T_db2d0fa2_9a44_11eb_8139_e45e37c43aaalevel0_row2\" class=\"row_heading level0 row2\" >Large (2000-5000)</th>\n                        <td id=\"T_db2d0fa2_9a44_11eb_8139_e45e37c43aaarow2_col0\" class=\"data row2 col0\" >77.75</td>\n                        <td id=\"T_db2d0fa2_9a44_11eb_8139_e45e37c43aaarow2_col1\" class=\"data row2 col1\" >81.34</td>\n                        <td id=\"T_db2d0fa2_9a44_11eb_8139_e45e37c43aaarow2_col2\" class=\"data row2 col2\" >69.96%</td>\n                        <td id=\"T_db2d0fa2_9a44_11eb_8139_e45e37c43aaarow2_col3\" class=\"data row2 col3\" >82.77%</td>\n                        <td id=\"T_db2d0fa2_9a44_11eb_8139_e45e37c43aaarow2_col4\" class=\"data row2 col4\" >58.29%</td>\n            </tr>\n    </tbody></table>"
     },
     "execution_count": 10,
     "metadata": {},
     "output_type": "execute_result"
    }
   ],
   "source": [
    "size_bins =[0, 1000, 2000, 5000]\n",
    "size_labels = ['Small (<1000)', 'Medium (1000-2000)', 'Large (2000-5000)']\n",
    "\n",
    "school_summary_df['School Size'] = pd.cut(school_summary_df['Total Students'], size_bins, labels=size_labels, include_lowest=True)\n",
    "school_summary_df.groupby('School Size')['Average Math Score', 'Average Reading Score', '% Passing Math', '% Passing Reading', '% Overall Passing'].mean().style.format(output_format)"
   ],
   "metadata": {
    "collapsed": false,
    "pycharm": {
     "name": "#%%\n"
    }
   }
  },
  {
   "cell_type": "markdown",
   "metadata": {},
   "source": [
    "## Scores by School Type"
   ]
  },
  {
   "cell_type": "markdown",
   "metadata": {},
   "source": [
    "* Perform the same operations as above, based on school type"
   ]
  },
  {
   "cell_type": "code",
   "execution_count": 11,
   "metadata": {},
   "outputs": [
    {
     "name": "stderr",
     "output_type": "stream",
     "text": [
      "c:\\users\\nconn\\appdata\\local\\programs\\python\\python37\\lib\\site-packages\\ipykernel_launcher.py:1: FutureWarning: Indexing with multiple keys (implicitly converted to a tuple of keys) will be deprecated, use a list instead.\n",
      "  \"\"\"Entry point for launching an IPython kernel.\n"
     ]
    },
    {
     "data": {
      "text/plain": "<pandas.io.formats.style.Styler at 0x21edfcf7948>",
      "text/html": "<style  type=\"text/css\" >\n</style><table id=\"T_db2fa25c_9a44_11eb_813b_e45e37c43aaa\" ><thead>    <tr>        <th class=\"blank level0\" ></th>        <th class=\"col_heading level0 col0\" >Average Math Score</th>        <th class=\"col_heading level0 col1\" >Average Reading Score</th>        <th class=\"col_heading level0 col2\" >% Passing Math</th>        <th class=\"col_heading level0 col3\" >% Passing Reading</th>        <th class=\"col_heading level0 col4\" >% Overall Passing</th>    </tr>    <tr>        <th class=\"index_name level0\" >School Type</th>        <th class=\"blank\" ></th>        <th class=\"blank\" ></th>        <th class=\"blank\" ></th>        <th class=\"blank\" ></th>        <th class=\"blank\" ></th>    </tr></thead><tbody>\n                <tr>\n                        <th id=\"T_db2fa25c_9a44_11eb_813b_e45e37c43aaalevel0_row0\" class=\"row_heading level0 row0\" >Charter</th>\n                        <td id=\"T_db2fa25c_9a44_11eb_813b_e45e37c43aaarow0_col0\" class=\"data row0 col0\" >83.47</td>\n                        <td id=\"T_db2fa25c_9a44_11eb_813b_e45e37c43aaarow0_col1\" class=\"data row0 col1\" >83.90</td>\n                        <td id=\"T_db2fa25c_9a44_11eb_813b_e45e37c43aaarow0_col2\" class=\"data row0 col2\" >93.62%</td>\n                        <td id=\"T_db2fa25c_9a44_11eb_813b_e45e37c43aaarow0_col3\" class=\"data row0 col3\" >96.59%</td>\n                        <td id=\"T_db2fa25c_9a44_11eb_813b_e45e37c43aaarow0_col4\" class=\"data row0 col4\" >90.43%</td>\n            </tr>\n            <tr>\n                        <th id=\"T_db2fa25c_9a44_11eb_813b_e45e37c43aaalevel0_row1\" class=\"row_heading level0 row1\" >District</th>\n                        <td id=\"T_db2fa25c_9a44_11eb_813b_e45e37c43aaarow1_col0\" class=\"data row1 col0\" >76.96</td>\n                        <td id=\"T_db2fa25c_9a44_11eb_813b_e45e37c43aaarow1_col1\" class=\"data row1 col1\" >80.97</td>\n                        <td id=\"T_db2fa25c_9a44_11eb_813b_e45e37c43aaarow1_col2\" class=\"data row1 col2\" >66.55%</td>\n                        <td id=\"T_db2fa25c_9a44_11eb_813b_e45e37c43aaarow1_col3\" class=\"data row1 col3\" >80.80%</td>\n                        <td id=\"T_db2fa25c_9a44_11eb_813b_e45e37c43aaarow1_col4\" class=\"data row1 col4\" >53.67%</td>\n            </tr>\n    </tbody></table>"
     },
     "execution_count": 11,
     "metadata": {},
     "output_type": "execute_result"
    }
   ],
   "source": [
    "school_summary_df.groupby('School Type')['Average Math Score', 'Average Reading Score', '% Passing Math', '% Passing Reading', '% Overall Passing'].mean().style.format(output_format)\n"
   ]
  }
 ],
 "metadata": {
  "anaconda-cloud": {},
  "kernel_info": {
   "name": "python3"
  },
  "kernelspec": {
   "display_name": "Python 3",
   "language": "python",
   "name": "python3"
  },
  "language_info": {
   "codemirror_mode": {
    "name": "ipython",
    "version": 3
   },
   "file_extension": ".py",
   "mimetype": "text/x-python",
   "name": "python",
   "nbconvert_exporter": "python",
   "pygments_lexer": "ipython3",
   "version": "3.8.5"
  },
  "latex_envs": {
   "LaTeX_envs_menu_present": true,
   "autoclose": false,
   "autocomplete": true,
   "bibliofile": "biblio.bib",
   "cite_by": "apalike",
   "current_citInitial": 1,
   "eqLabelWithNumbers": true,
   "eqNumInitial": 1,
   "hotkeys": {
    "equation": "Ctrl-E",
    "itemize": "Ctrl-I"
   },
   "labels_anchors": false,
   "latex_user_defs": false,
   "report_style_numbering": false,
   "user_envs_cfg": false
  },
  "nteract": {
   "version": "0.8.4"
  }
 },
 "nbformat": 4,
 "nbformat_minor": 1
}